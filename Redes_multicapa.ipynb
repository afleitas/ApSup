{
 "cells": [
  {
   "cell_type": "markdown",
   "metadata": {
    "colab": {
     "base_uri": "https://localhost:8080/"
    },
    "id": "09VeLog8h4CI",
    "outputId": "053e6ceb-54ed-495e-8b5d-4aa9cfa56d32"
   },
   "source": [
    "```R\n",
    "install.packages(\"tensorflow\")\n",
    "install.packages(\"keras\")\n",
    "install.packages(\"ISLR2\")\n",
    "install.packages(\"glmnet\")\n",
    "```"
   ]
  },
  {
   "cell_type": "code",
   "execution_count": 19,
   "metadata": {},
   "outputs": [],
   "source": [
    "import tensorflow as tf\n",
    "from tensorflow import keras\n",
    "import pandas as pd\n",
    "import numpy as np\n",
    "import matplotlib.pyplot as plt\n",
    "from tensorflow.keras import layers"
   ]
  },
  {
   "cell_type": "code",
   "execution_count": 4,
   "metadata": {},
   "outputs": [
    {
     "data": {
      "text/plain": [
       "('2.7.0', '2.7.0')"
      ]
     },
     "execution_count": 4,
     "metadata": {},
     "output_type": "execute_result"
    }
   ],
   "source": [
    "tf.__version__, tf.keras.__version__"
   ]
  },
  {
   "cell_type": "markdown",
   "metadata": {
    "id": "DOrZjqSK1rBc"
   },
   "source": [
    "# Red neuronal multicapa (MNIST)"
   ]
  },
  {
   "cell_type": "markdown",
   "metadata": {
    "id": "bv-w3sxl2nyJ"
   },
   "source": [
    "El paquete `keras` viene con un número de conjuntos de datos de ejemplo, \n",
    "incluyendo los datos de dígitos de MNIST. \n",
    "\n",
    "Nuestro primer paso es cargar los datos MNIST con la función `dataset_mnist()`."
   ]
  },
  {
   "cell_type": "code",
   "execution_count": 5,
   "metadata": {},
   "outputs": [],
   "source": [
    "mnist = keras.datasets.mnist.load_data()"
   ]
  },
  {
   "cell_type": "code",
   "execution_count": 8,
   "metadata": {},
   "outputs": [
    {
     "data": {
      "text/plain": [
       "2"
      ]
     },
     "execution_count": 8,
     "metadata": {},
     "output_type": "execute_result"
    }
   ],
   "source": [
    "len(mnist)"
   ]
  },
  {
   "cell_type": "code",
   "execution_count": 14,
   "metadata": {},
   "outputs": [],
   "source": [
    "(X_train, y_train), (X_test, y_test) = mnist"
   ]
  },
  {
   "cell_type": "code",
   "execution_count": 15,
   "metadata": {},
   "outputs": [
    {
     "data": {
      "text/plain": [
       "array([5, 0, 4, ..., 5, 6, 8], dtype=uint8)"
      ]
     },
     "execution_count": 15,
     "metadata": {},
     "output_type": "execute_result"
    }
   ],
   "source": [
    "y_train"
   ]
  },
  {
   "cell_type": "code",
   "execution_count": 16,
   "metadata": {},
   "outputs": [
    {
     "data": {
      "image/png": "[encoded data removed]",
      "text/plain": [
       "<Figure size 432x288 with 1 Axes>"
      ]
     },
     "metadata": {
      "needs_background": "light"
     },
     "output_type": "display_data"
    }
   ],
   "source": [
    "plt.imshow(X_train[4], cmap=\"Greys\")\n",
    "plt.title(f\"Esta imagen tiene un {y_train[4]}\")\n",
    "plt.show()"
   ]
  },
  {
   "cell_type": "code",
   "execution_count": 17,
   "metadata": {},
   "outputs": [
    {
     "data": {
      "text/plain": [
       "((60000, 28, 28), (10000, 28, 28))"
      ]
     },
     "execution_count": 17,
     "metadata": {},
     "output_type": "execute_result"
    }
   ],
   "source": [
    "X_train.shape, X_test.shape"
   ]
  },
  {
   "cell_type": "markdown",
   "metadata": {
    "colab": {
     "base_uri": "https://localhost:8080/",
     "height": 52
    },
    "id": "jPjutFdG2oNZ",
    "outputId": "8de5d748-8d31-4a3d-c29b-4d5d875b8416"
   },
   "source": [
    "```\n",
    "library(keras)\n",
    "mnist <- dataset_mnist()\n",
    "x_train <- mnist$train$x\n",
    "g_train <- mnist$train$y\n",
    "x_test <- mnist$test$x\n",
    "g_test <- mnist$test$y\n",
    "dim(x_train)\n",
    "dim(x_test)\n",
    "```"
   ]
  },
  {
   "cell_type": "code",
   "execution_count": 20,
   "metadata": {},
   "outputs": [
    {
     "data": {
      "text/plain": [
       "(0.0, 6.408263e-05, 1.0)"
      ]
     },
     "execution_count": 20,
     "metadata": {},
     "output_type": "execute_result"
    }
   ],
   "source": [
    "x = keras.layers.experimental.preprocessing.Rescaling(1.0 / 255)(X_train[:, :, 1])\n",
    "x = layers.Flatten()(x)\n",
    "x = tf.constant(x)\n",
    "x.numpy().min(), x.numpy().mean(), x.numpy().max()"
   ]
  },
  {
   "cell_type": "code",
   "execution_count": 21,
   "metadata": {},
   "outputs": [
    {
     "name": "stdout",
     "output_type": "stream",
     "text": [
      "Model: \"model\"\n",
      "_________________________________________________________________\n",
      " Layer (type)                Output Shape              Param #   \n",
      "=================================================================\n",
      " input_1 (InputLayer)        [(None, 28, 28)]          0         \n",
      "                                                                 \n",
      " rescaling_2 (Rescaling)     (None, 28, 28)            0         \n",
      "                                                                 \n",
      " flatten_1 (Flatten)         (None, 784)               0         \n",
      "                                                                 \n",
      " dense (Dense)               (None, 256)               200960    \n",
      "                                                                 \n",
      " dropout (Dropout)           (None, 256)               0         \n",
      "                                                                 \n",
      " dense_1 (Dense)             (None, 128)               32896     \n",
      "                                                                 \n",
      " dropout_1 (Dropout)         (None, 128)               0         \n",
      "                                                                 \n",
      " dense_2 (Dense)             (None, 10)                1290      \n",
      "                                                                 \n",
      "=================================================================\n",
      "Total params: 235,146\n",
      "Trainable params: 235,146\n",
      "Non-trainable params: 0\n",
      "_________________________________________________________________\n",
      "Fit on NumPy data\n",
      "Epoch 1/20\n",
      "938/938 [==============================] - 3s 3ms/step - loss: 0.3573 - accuracy: 0.8919 - val_loss: 0.1305 - val_accuracy: 0.9604\n",
      "Epoch 2/20\n",
      "938/938 [==============================] - 3s 3ms/step - loss: 0.1689 - accuracy: 0.9491 - val_loss: 0.1008 - val_accuracy: 0.9677\n",
      "Epoch 3/20\n",
      "938/938 [==============================] - 2s 3ms/step - loss: 0.1314 - accuracy: 0.9606 - val_loss: 0.0873 - val_accuracy: 0.9731\n",
      "Epoch 4/20\n",
      "938/938 [==============================] - 3s 3ms/step - loss: 0.1124 - accuracy: 0.9657 - val_loss: 0.0856 - val_accuracy: 0.9741\n",
      "Epoch 5/20\n",
      "938/938 [==============================] - 3s 3ms/step - loss: 0.0959 - accuracy: 0.9705 - val_loss: 0.0744 - val_accuracy: 0.9775\n",
      "Epoch 6/20\n",
      "938/938 [==============================] - 3s 3ms/step - loss: 0.0914 - accuracy: 0.9720 - val_loss: 0.0671 - val_accuracy: 0.9803\n",
      "Epoch 7/20\n",
      "938/938 [==============================] - 3s 3ms/step - loss: 0.0834 - accuracy: 0.9739 - val_loss: 0.0682 - val_accuracy: 0.9795\n",
      "Epoch 8/20\n",
      "938/938 [==============================] - 3s 3ms/step - loss: 0.0789 - accuracy: 0.9751 - val_loss: 0.0677 - val_accuracy: 0.9793\n",
      "Epoch 9/20\n",
      "938/938 [==============================] - 3s 3ms/step - loss: 0.0739 - accuracy: 0.9767 - val_loss: 0.0685 - val_accuracy: 0.9790\n",
      "Epoch 10/20\n",
      "938/938 [==============================] - 3s 3ms/step - loss: 0.0699 - accuracy: 0.9778 - val_loss: 0.0676 - val_accuracy: 0.9799\n",
      "Epoch 11/20\n",
      "938/938 [==============================] - 3s 3ms/step - loss: 0.0654 - accuracy: 0.9794 - val_loss: 0.0633 - val_accuracy: 0.9818\n",
      "Epoch 12/20\n",
      "938/938 [==============================] - 2s 3ms/step - loss: 0.0609 - accuracy: 0.9808 - val_loss: 0.0689 - val_accuracy: 0.9807\n",
      "Epoch 13/20\n",
      "938/938 [==============================] - 3s 3ms/step - loss: 0.0600 - accuracy: 0.9808 - val_loss: 0.0640 - val_accuracy: 0.9816\n",
      "Epoch 14/20\n",
      "938/938 [==============================] - 3s 3ms/step - loss: 0.0588 - accuracy: 0.9817 - val_loss: 0.0631 - val_accuracy: 0.9824\n",
      "Epoch 15/20\n",
      "938/938 [==============================] - 3s 3ms/step - loss: 0.0535 - accuracy: 0.9832 - val_loss: 0.0641 - val_accuracy: 0.9827\n",
      "Epoch 16/20\n",
      "938/938 [==============================] - 3s 3ms/step - loss: 0.0518 - accuracy: 0.9833 - val_loss: 0.0725 - val_accuracy: 0.9808\n",
      "Epoch 17/20\n",
      "938/938 [==============================] - 3s 3ms/step - loss: 0.0521 - accuracy: 0.9834 - val_loss: 0.0635 - val_accuracy: 0.9823\n",
      "Epoch 18/20\n",
      "938/938 [==============================] - 3s 3ms/step - loss: 0.0482 - accuracy: 0.9840 - val_loss: 0.0685 - val_accuracy: 0.9810\n",
      "Epoch 19/20\n",
      "938/938 [==============================] - 3s 3ms/step - loss: 0.0489 - accuracy: 0.9842 - val_loss: 0.0668 - val_accuracy: 0.9827\n",
      "Epoch 20/20\n",
      "938/938 [==============================] - 3s 3ms/step - loss: 0.0452 - accuracy: 0.9855 - val_loss: 0.0745 - val_accuracy: 0.9804\n"
     ]
    }
   ],
   "source": [
    "# Get the data as Numpy arrays\n",
    "(x_train, y_train), (x_test, y_test) = keras.datasets.mnist.load_data()\n",
    "\n",
    "# Build a simple model\n",
    "inputs = keras.Input(shape=(28, 28))\n",
    "\n",
    "x = keras.layers.experimental.preprocessing.Rescaling(1.0 / 255)(inputs)\n",
    "x = layers.Flatten()(x)\n",
    "x = layers.Dense(256, activation=\"relu\")(x)\n",
    "x = layers.Dropout(rate=0.4)(x)\n",
    "x = layers.Dense(128, activation=\"relu\")(x)\n",
    "x = layers.Dropout(rate=0.3)(x)\n",
    "outputs = layers.Dense(10, activation=\"softmax\")(x)\n",
    "model = keras.Model(inputs, outputs)\n",
    "model.summary()\n",
    "\n",
    "# Compile the model\n",
    "model.compile(optimizer=\"adam\", loss=\"sparse_categorical_crossentropy\", metrics=[\"accuracy\"])\n",
    "\n",
    "# Train the model for 1 epoch from Numpy data\n",
    "batch_size = 64\n",
    "print(\"Fit on NumPy data\")\n",
    "history = model.fit(x_train, y_train, batch_size=batch_size, validation_data=(x_test, y_test), epochs=20)"
   ]
  },
  {
   "cell_type": "code",
   "execution_count": 22,
   "metadata": {},
   "outputs": [
    {
     "data": {
      "text/html": [
       "<div>\n",
       "<style scoped>\n",
       "    .dataframe tbody tr th:only-of-type {\n",
       "        vertical-align: middle;\n",
       "    }\n",
       "\n",
       "    .dataframe tbody tr th {\n",
       "        vertical-align: top;\n",
       "    }\n",
       "\n",
       "    .dataframe thead th {\n",
       "        text-align: right;\n",
       "    }\n",
       "</style>\n",
       "<table border=\"1\" class=\"dataframe\">\n",
       "  <thead>\n",
       "    <tr style=\"text-align: right;\">\n",
       "      <th></th>\n",
       "      <th>loss</th>\n",
       "      <th>accuracy</th>\n",
       "      <th>val_loss</th>\n",
       "      <th>val_accuracy</th>\n",
       "    </tr>\n",
       "  </thead>\n",
       "  <tbody>\n",
       "    <tr>\n",
       "      <th>0</th>\n",
       "      <td>0.357312</td>\n",
       "      <td>0.891933</td>\n",
       "      <td>0.130463</td>\n",
       "      <td>0.9604</td>\n",
       "    </tr>\n",
       "    <tr>\n",
       "      <th>1</th>\n",
       "      <td>0.168893</td>\n",
       "      <td>0.949100</td>\n",
       "      <td>0.100799</td>\n",
       "      <td>0.9677</td>\n",
       "    </tr>\n",
       "    <tr>\n",
       "      <th>2</th>\n",
       "      <td>0.131389</td>\n",
       "      <td>0.960567</td>\n",
       "      <td>0.087347</td>\n",
       "      <td>0.9731</td>\n",
       "    </tr>\n",
       "    <tr>\n",
       "      <th>3</th>\n",
       "      <td>0.112369</td>\n",
       "      <td>0.965683</td>\n",
       "      <td>0.085589</td>\n",
       "      <td>0.9741</td>\n",
       "    </tr>\n",
       "    <tr>\n",
       "      <th>4</th>\n",
       "      <td>0.095947</td>\n",
       "      <td>0.970517</td>\n",
       "      <td>0.074403</td>\n",
       "      <td>0.9775</td>\n",
       "    </tr>\n",
       "  </tbody>\n",
       "</table>\n",
       "</div>"
      ],
      "text/plain": [
       "       loss  accuracy  val_loss  val_accuracy\n",
       "0  0.357312  0.891933  0.130463        0.9604\n",
       "1  0.168893  0.949100  0.100799        0.9677\n",
       "2  0.131389  0.960567  0.087347        0.9731\n",
       "3  0.112369  0.965683  0.085589        0.9741\n",
       "4  0.095947  0.970517  0.074403        0.9775"
      ]
     },
     "execution_count": 22,
     "metadata": {},
     "output_type": "execute_result"
    }
   ],
   "source": [
    "df_history = pd.DataFrame(history.history)\n",
    "df_history.head()"
   ]
  },
  {
   "cell_type": "code",
   "execution_count": 23,
   "metadata": {},
   "outputs": [
    {
     "data": {
      "image/png": "[encoded data removed]",
      "text/plain": [
       "<Figure size 1440x432 with 2 Axes>"
      ]
     },
     "metadata": {
      "needs_background": "light"
     },
     "output_type": "display_data"
    }
   ],
   "source": [
    "import matplotlib.pyplot as plt\n",
    "import seaborn as sns\n",
    "plt.figure(figsize=(20, 6))\n",
    "plt.subplot(1, 2, 1)\n",
    "sns.lineplot(data=df_history.loss, label=\"training\")\n",
    "sns.lineplot(data=df_history.val_loss, label=\"validation\")\n",
    "plt.subplot(1, 2, 2)\n",
    "sns.lineplot(data=df_history.accuracy, label=\"training\")\n",
    "sns.lineplot(data=df_history.val_accuracy, label=\"validation\")\n",
    "plt.legend()\n",
    "plt.show()"
   ]
  },
  {
   "cell_type": "markdown",
   "metadata": {
    "id": "KVCj2RqS2zvw"
   },
   "source": [
    "Hay $60.000$ imágenes en los datos de entrenamiento y $10.000$ en los datos de prueba.\n",
    "\n",
    "Las imágenes son de $28×28$, y se almacenan como una matriz tridimensional, por lo que necesitamos\n",
    "que darles forma de matriz. \n",
    "\n",
    "Además, tenemos que codificar la etiqueta de la clase de una sola vez.\n",
    "etiqueta. \n",
    "\n",
    "Por suerte, Keras tiene un montón de funciones incorporadas que hacen esto por nosotros."
   ]
  },
  {
   "cell_type": "markdown",
   "metadata": {
    "id": "kzWjAvQ3zayy"
   },
   "source": [
    "```R\n",
    "x_train <- array_reshape(x_train, c(nrow(x_train), 784))\n",
    "x_test <- array_reshape(x_test, c(nrow(x_test), 784))\n",
    "y_train <- to_categorical(g_train, 10)\n",
    "y_test <- to_categorical(g_test, 10)\n",
    "```"
   ]
  },
  {
   "cell_type": "markdown",
   "metadata": {
    "id": "mivQYA4A22-T"
   },
   "source": [
    "Las redes neuronales son sensibles a la escala de las entradas. Por ejemplo, la regularización de *ridge* y de *lasso* se ve afectada por la escala. En este caso, las entradas son valores de escala de grises de ocho bits entre $0$ y $255$, por lo que reescalamos al intervalo de la unidad.\n"
   ]
  },
  {
   "cell_type": "markdown",
   "metadata": {
    "id": "28VqjhR_3Fgt"
   },
   "source": [
    "```R\n",
    "x_train <- x_train / 255\n",
    "x_test <- x_test / 255\n",
    "```"
   ]
  },
  {
   "cell_type": "markdown",
   "metadata": {
    "id": "VZsftUh43HEQ"
   },
   "source": [
    "Ajustamos la red neuronal:"
   ]
  },
  {
   "cell_type": "markdown",
   "metadata": {
    "id": "cBYtpmmX3I6B"
   },
   "source": [
    "```R\n",
    "modelnn <- keras_model_sequential()\n",
    "\n",
    "modelnn %>% layer_dense(units = 256, \n",
    "                        activation = \"relu\",\n",
    "                        input_shape = c(784)) %>%\n",
    "            layer_dropout(rate = 0.4) %>%\n",
    "            layer_dense(units = 128, activation = \"relu\") %>%\n",
    "            layer_dropout(rate = 0.3) %>%\n",
    "            layer_dense(units = 10, activation = \"softmax\")\n",
    "```"
   ]
  },
  {
   "cell_type": "markdown",
   "metadata": {
    "id": "NNS3I5LN3M6y"
   },
   "source": [
    "*Summary* del modelo:\n"
   ]
  },
  {
   "cell_type": "code",
   "execution_count": 24,
   "metadata": {
    "colab": {
     "base_uri": "https://localhost:8080/"
    },
    "id": "IRXJH67w3O9C",
    "outputId": "e73aae29-84dc-47fe-a077-69e1ed45c023"
   },
   "outputs": [
    {
     "ename": "NameError",
     "evalue": "name 'summary' is not defined",
     "output_type": "error",
     "traceback": [
      "\u001b[1;31m---------------------------------------------------------------------------\u001b[0m",
      "\u001b[1;31mNameError\u001b[0m                                 Traceback (most recent call last)",
      "\u001b[1;32m~\\AppData\\Local\\Temp/ipykernel_40316/489409967.py\u001b[0m in \u001b[0;36m<module>\u001b[1;34m\u001b[0m\n\u001b[1;32m----> 1\u001b[1;33m \u001b[0msummary\u001b[0m\u001b[1;33m(\u001b[0m\u001b[0mmodelnn\u001b[0m\u001b[1;33m)\u001b[0m\u001b[1;33m\u001b[0m\u001b[1;33m\u001b[0m\u001b[0m\n\u001b[0m",
      "\u001b[1;31mNameError\u001b[0m: name 'summary' is not defined"
     ]
    }
   ],
   "source": [
    "summary(modelnn)"
   ]
  },
  {
   "cell_type": "markdown",
   "metadata": {
    "id": "d-6MCFTO3WfX"
   },
   "source": [
    "Los parámetros de cada capa incluyen un término de sesgo, lo que da lugar a un\n",
    "número de parámetros de $235146$. \n",
    "\n",
    "Por ejemplo, la primera capa oculta implica $(784 + 1) × 256 = 200.960$ parámetros."
   ]
  },
  {
   "cell_type": "markdown",
   "metadata": {
    "id": "rqcNbD_O3YeM"
   },
   "source": [
    "Minimizamos la *cross-entropy*:"
   ]
  },
  {
   "cell_type": "markdown",
   "metadata": {
    "id": "sE0qhc7_3Y7V"
   },
   "source": [
    "```R\n",
    "modelnn %>% compile(loss = \"categorical_crossentropy\",\n",
    "                    optimizer = optimizer_rmsprop(),\n",
    "                    metrics = c(\"accuracy\"))\n",
    "```"
   ]
  },
  {
   "cell_type": "markdown",
   "metadata": {
    "id": "y63KllY83bA0"
   },
   "source": [
    "Entrenamos el modelo:"
   ]
  },
  {
   "cell_type": "markdown",
   "metadata": {
    "colab": {
     "base_uri": "https://localhost:8080/",
     "height": 472
    },
    "id": "YXESbPC23dbi",
    "outputId": "3adb00f1-57a6-48f5-ecaf-7e86ccf41e08"
   },
   "source": [
    "```R\n",
    "system.time(\n",
    "  history <- modelnn %>% fit(x_train, y_train, \n",
    "                             epochs = 30, \n",
    "                             batch_size = 128,\n",
    "                             validation_split = 0.2)\n",
    ")\n",
    "```"
   ]
  },
  {
   "cell_type": "code",
   "execution_count": 25,
   "metadata": {
    "colab": {
     "base_uri": "https://localhost:8080/",
     "height": 472
    },
    "id": "YXESbPC23dbi",
    "outputId": "3adb00f1-57a6-48f5-ecaf-7e86ccf41e08"
   },
   "outputs": [
    {
     "ename": "NameError",
     "evalue": "name 'plot' is not defined",
     "output_type": "error",
     "traceback": [
      "\u001b[1;31m---------------------------------------------------------------------------\u001b[0m",
      "\u001b[1;31mNameError\u001b[0m                                 Traceback (most recent call last)",
      "\u001b[1;32m~\\AppData\\Local\\Temp/ipykernel_40316/1316254602.py\u001b[0m in \u001b[0;36m<module>\u001b[1;34m\u001b[0m\n\u001b[1;32m----> 1\u001b[1;33m \u001b[0mplot\u001b[0m\u001b[1;33m(\u001b[0m\u001b[0mhistory\u001b[0m\u001b[1;33m,\u001b[0m \u001b[0msmooth\u001b[0m \u001b[1;33m=\u001b[0m \u001b[0mFALSE\u001b[0m\u001b[1;33m)\u001b[0m\u001b[1;33m\u001b[0m\u001b[1;33m\u001b[0m\u001b[0m\n\u001b[0m",
      "\u001b[1;31mNameError\u001b[0m: name 'plot' is not defined"
     ]
    }
   ],
   "source": [
    "plot(history, smooth = FALSE)"
   ]
  },
  {
   "cell_type": "markdown",
   "metadata": {
    "id": "JmJSFpkb3joC"
   },
   "source": [
    "* El entrenamiento se realiza con el $80%$ de las $60000$ observaciones.\n",
    "* El SGD utiliza lotes de $128$ observaciones para calcular el gradiente. Una época corresponde a 375 pasos."
   ]
  },
  {
   "cell_type": "markdown",
   "metadata": {
    "id": "jZM4-OiWmxzj"
   },
   "source": [
    "Evaluamos nuestras predicciones:"
   ]
  },
  {
   "cell_type": "code",
   "execution_count": 26,
   "metadata": {},
   "outputs": [
    {
     "data": {
      "text/plain": [
       "0.9804"
      ]
     },
     "execution_count": 26,
     "metadata": {},
     "output_type": "execute_result"
    }
   ],
   "source": [
    "def accuracy(pred, truth):\n",
    "    return np.mean(pred == truth)\n",
    "\n",
    "y_pred = model.predict(X_test)  # Esta es simplemente la capa de salida de la RN\n",
    "y_pred = np.argmax(y_pred, axis=1)  # Aquí predecimos según el valor de máxima activación\n",
    "accuracy(y_pred, y_test)"
   ]
  },
  {
   "cell_type": "markdown",
   "metadata": {},
   "source": [
    "¿Qué ejemplos están mal clasificados?"
   ]
  },
  {
   "cell_type": "code",
   "execution_count": 27,
   "metadata": {},
   "outputs": [
    {
     "data": {
      "image/png": "[encoded data removed]",
      "text/plain": [
       "<Figure size 1008x504 with 18 Axes>"
      ]
     },
     "metadata": {
      "needs_background": "light"
     },
     "output_type": "display_data"
    }
   ],
   "source": [
    "wrongs = np.where(y_pred != y_test)[0]  # Recupera los índices de las obsveraciones mal clasificadas\n",
    "fig, axs = plt.subplots(3, 6, figsize=(14, 7))\n",
    "for idx, ax in zip(  # `zip` aparea los elementos de\n",
    "    np.random.choice(wrongs, 18, replace=False),  #  los índices de 18 dígitos mal clasificados\n",
    "    fig.axes  # con los 3 * 6 = 18 \"subplots\" recién creados\n",
    "):\n",
    "    ax.imshow(X_test[idx], cmap=\"Greys\")\n",
    "    ax.set_title(f\"Pred: {y_pred[idx]} (was: {y_test[idx]})\")\n",
    "    ax.axis(\"off\")\n",
    "plt.show()"
   ]
  },
  {
   "cell_type": "markdown",
   "metadata": {
    "id": "IZa1almL3lzb"
   },
   "source": [
    "```R\n",
    "accuracy <- function(pred, truth)\n",
    "mean(drop(pred) == drop(truth))\n",
    "\n",
    "modelnn %>% predict_classes(x_test) %>% accuracy(g_test)\n",
    "```"
   ]
  },
  {
   "cell_type": "markdown",
   "metadata": {
    "id": "YOzbIO6v3qch"
   },
   "source": [
    "Para ajustar una regresión logística basta con omitir la capa oculta.\n",
    "\n",
    "(`glmnet` es más lento para un dataset grande)"
   ]
  },
  {
   "cell_type": "markdown",
   "metadata": {
    "id": "c2a4O7rj3tRY"
   },
   "source": [
    "```R\n",
    "modellr <- keras_model_sequential() % >%\n",
    "  layer_dense(input_shape = 784, units = 10,\n",
    "  activation = \"softmax\")\n",
    "summary(modellr)\n",
    "```"
   ]
  },
  {
   "cell_type": "code",
   "execution_count": 70,
   "metadata": {},
   "outputs": [
    {
     "name": "stdout",
     "output_type": "stream",
     "text": [
      "Model: \"sequential_2\"\n",
      "_________________________________________________________________\n",
      "Layer (type)                 Output Shape              Param #   \n",
      "=================================================================\n",
      "rescaling_4 (Rescaling)      (None, 28, 28)            0         \n",
      "_________________________________________________________________\n",
      "flatten_4 (Flatten)          (None, 784)               0         \n",
      "_________________________________________________________________\n",
      "dense_10 (Dense)             (None, 10)                7850      \n",
      "=================================================================\n",
      "Total params: 7,850\n",
      "Trainable params: 7,850\n",
      "Non-trainable params: 0\n",
      "_________________________________________________________________\n"
     ]
    }
   ],
   "source": [
    "# Build a simple model\n",
    "model = keras.Sequential()\n",
    "model.add(keras.layers.experimental.preprocessing.Rescaling(1.0 / 255, input_shape=X_train.shape[1:]))\n",
    "model.add(layers.Flatten())\n",
    "model.add(layers.Dense(units=10, activation=\"softmax\"))\n",
    "model.summary()"
   ]
  },
  {
   "cell_type": "code",
   "execution_count": 28,
   "metadata": {},
   "outputs": [],
   "source": [
    "from sklearn import preprocessing\n",
    "binarizer = preprocessing.LabelBinarizer().fit(y_train)"
   ]
  },
  {
   "cell_type": "code",
   "execution_count": 29,
   "metadata": {},
   "outputs": [
    {
     "data": {
      "text/plain": [
       "LabelBinarizer()"
      ]
     },
     "execution_count": 29,
     "metadata": {},
     "output_type": "execute_result"
    }
   ],
   "source": [
    "binarizer"
   ]
  },
  {
   "cell_type": "code",
   "execution_count": 72,
   "metadata": {},
   "outputs": [],
   "source": [
    "model.compile(\n",
    "    loss=\"categorical_crossentropy\",\n",
    "    optimizer=\"rmsprop\",\n",
    "    metrics=[\"accuracy\"]\n",
    ")\n",
    "early_stopping_callback = tf.keras.callbacks.EarlyStopping(monitor='val_loss', patience=10)\n",
    "history = model.fit(\n",
    "    X_train,\n",
    "    binarizer.transform(y_train),\n",
    "    epochs = 100,\n",
    "    batch_size = 128,\n",
    "    validation_data = (X_test, binarizer.transform(y_test)),\n",
    "    verbose=0,\n",
    "    callbacks=[early_stopping_callback],\n",
    ")"
   ]
  },
  {
   "cell_type": "code",
   "execution_count": 73,
   "metadata": {},
   "outputs": [
    {
     "data": {
      "text/plain": [
       "0.9279"
      ]
     },
     "execution_count": 73,
     "metadata": {},
     "output_type": "execute_result"
    }
   ],
   "source": [
    "# y_pred = model.predict_classes(X_test)\n",
    "# keras advierte que `Sequential.predict_classes` está por deprecarse y sugiere\n",
    "y_pred = np.argmax(model.predict(X_test), axis=-1)\n",
    "accuracy(y_pred, y_test)"
   ]
  },
  {
   "cell_type": "code",
   "execution_count": 77,
   "metadata": {},
   "outputs": [],
   "source": [
    "df_history = pd.DataFrame(history.history)"
   ]
  },
  {
   "cell_type": "code",
   "execution_count": 78,
   "metadata": {},
   "outputs": [
    {
     "data": {
      "image/png": "[encoded data removed]",
      "text/plain": [
       "<Figure size 1440x432 with 2 Axes>"
      ]
     },
     "metadata": {
      "needs_background": "light"
     },
     "output_type": "display_data"
    }
   ],
   "source": [
    "import matplotlib.pyplot as plt\n",
    "import seaborn as sns\n",
    "plt.figure(figsize=(20, 6))\n",
    "plt.subplot(1, 2, 1)\n",
    "sns.lineplot(data=df_history.loss, label=\"training\")\n",
    "sns.lineplot(data=df_history.val_loss, label=\"validation\")\n",
    "plt.subplot(1, 2, 2)\n",
    "sns.lineplot(data=df_history.accuracy, label=\"training\")\n",
    "sns.lineplot(data=df_history.val_accuracy, label=\"validation\")\n",
    "plt.legend()\n",
    "plt.show()"
   ]
  },
  {
   "cell_type": "markdown",
   "metadata": {
    "id": "ChpqEqWY3uoO"
   },
   "source": [
    "Ajustamos el modelo."
   ]
  },
  {
   "cell_type": "markdown",
   "metadata": {
    "id": "xD8JGgAM3wWW"
   },
   "source": [
    "```R\n",
    "modellr %>% compile(loss = \"categorical_crossentropy\",\n",
    "                    optimizer = optimizer_rmsprop(), \n",
    "                    metrics = c(\"accuracy\"))\n",
    "modellr %>% fit(x_train, y_train, \n",
    "                epochs = 30,\n",
    "                batch_size = 128, \n",
    "                validation_split = 0.2)\n",
    "modellr %>% predict_classes(x_test) \n",
    "        %>% accuracy(g_test)\n",
    "```"
   ]
  },
  {
   "cell_type": "code",
   "execution_count": 101,
   "metadata": {},
   "outputs": [],
   "source": [
    "flat_X_train = np.reshape(X_train, (-1, 28 * 28)) / 255\n",
    "flat_X_test = np.reshape(X_test, (-1, 28 * 28)) / 255"
   ]
  },
  {
   "cell_type": "code",
   "execution_count": 102,
   "metadata": {},
   "outputs": [],
   "source": [
    "from sklearn.linear_model import LogisticRegression"
   ]
  },
  {
   "cell_type": "code",
   "execution_count": 118,
   "metadata": {},
   "outputs": [],
   "source": [
    "mn_mod = LogisticRegression(multi_class=\"multinomial\", max_iter=500)\n",
    "mn_fit = mn_mod.fit(flat_X_train[:10000], y_train[:10000])"
   ]
  },
  {
   "cell_type": "code",
   "execution_count": 119,
   "metadata": {},
   "outputs": [
    {
     "data": {
      "text/plain": [
       "0.9051"
      ]
     },
     "execution_count": 119,
     "metadata": {},
     "output_type": "execute_result"
    }
   ],
   "source": [
    "accuracy(mn_fit.predict(flat_X_test), y_test)"
   ]
  },
  {
   "cell_type": "markdown",
   "metadata": {
    "id": "Hz5Dkg162d4k"
   },
   "source": [
    "# Ejercicio"
   ]
  },
  {
   "cell_type": "markdown",
   "metadata": {
    "id": "N0rn_dbz2hOu"
   },
   "source": [
    "Ajustar una red neuronal a los datos `Default`: \n",
    "* Utilice una sola capa oculta\n",
    "con $10$ unidades, y regularización de *dropout*. \n",
    "* Compare el rendimiento de clasificación de su modelo con una regresión logística."
   ]
  },
  {
   "cell_type": "code",
   "execution_count": 159,
   "metadata": {},
   "outputs": [],
   "source": [
    "default = pd.read_csv(\"../data/default.csv\")"
   ]
  },
  {
   "cell_type": "code",
   "execution_count": 160,
   "metadata": {
    "id": "KbJWd4pZ2goU"
   },
   "outputs": [],
   "source": [
    "for col in [\"default\", \"student\"]:  # codifico binariamente los dos vectores Yes/No\n",
    "    default[col] = np.array(default[col] == \"Yes\", dtype=int)\n",
    "y = default.default\n",
    "X = default.drop(columns=\"default\")"
   ]
  },
  {
   "cell_type": "code",
   "execution_count": 161,
   "metadata": {},
   "outputs": [],
   "source": [
    "from sklearn.model_selection import train_test_split"
   ]
  },
  {
   "cell_type": "code",
   "execution_count": 162,
   "metadata": {},
   "outputs": [
    {
     "data": {
      "text/plain": [
       "(10000, 3)"
      ]
     },
     "execution_count": 162,
     "metadata": {},
     "output_type": "execute_result"
    }
   ],
   "source": [
    "X.shape"
   ]
  },
  {
   "cell_type": "code",
   "execution_count": 163,
   "metadata": {},
   "outputs": [],
   "source": [
    "X_train, X_test, y_train, y_test = train_test_split(X, y, test_size=0.8)"
   ]
  },
  {
   "cell_type": "code",
   "execution_count": 172,
   "metadata": {},
   "outputs": [
    {
     "name": "stdout",
     "output_type": "stream",
     "text": [
      "Model: \"sequential_7\"\n",
      "_________________________________________________________________\n",
      "Layer (type)                 Output Shape              Param #   \n",
      "=================================================================\n",
      "dense_19 (Dense)             (None, 10)                40        \n",
      "_________________________________________________________________\n",
      "dropout_10 (Dropout)         (None, 10)                0         \n",
      "_________________________________________________________________\n",
      "dense_20 (Dense)             (None, 1)                 11        \n",
      "=================================================================\n",
      "Total params: 51\n",
      "Trainable params: 51\n",
      "Non-trainable params: 0\n",
      "_________________________________________________________________\n"
     ]
    }
   ],
   "source": [
    "model = keras.Sequential()\n",
    "model.add(layers.Dense(units=10, activation=\"relu\", input_shape=X.shape[1:]))\n",
    "model.add(layers.Dropout(0.3))\n",
    "model.add(layers.Dense(1, activation='sigmoid'))\n",
    "model.summary()"
   ]
  },
  {
   "cell_type": "code",
   "execution_count": 182,
   "metadata": {
    "collapsed": true,
    "jupyter": {
     "outputs_hidden": true
    }
   },
   "outputs": [
    {
     "name": "stdout",
     "output_type": "stream",
     "text": [
      "Epoch 1/1000\n",
      "16/16 - 0s - loss: 3658.7952 - accuracy: 0.1220 - val_loss: 3334.7600 - val_accuracy: 0.0336\n",
      "Epoch 2/1000\n",
      "16/16 - 0s - loss: 3091.6819 - accuracy: 0.1090 - val_loss: 2845.8789 - val_accuracy: 0.0336\n",
      "Epoch 3/1000\n",
      "16/16 - 0s - loss: 2689.4519 - accuracy: 0.1130 - val_loss: 2409.0828 - val_accuracy: 0.0336\n",
      "Epoch 4/1000\n",
      "16/16 - 0s - loss: 2218.2488 - accuracy: 0.1205 - val_loss: 2010.2958 - val_accuracy: 0.0338\n",
      "Epoch 5/1000\n",
      "16/16 - 0s - loss: 1908.4473 - accuracy: 0.2340 - val_loss: 1721.1102 - val_accuracy: 0.0338\n",
      "Epoch 6/1000\n",
      "16/16 - 0s - loss: 1612.6638 - accuracy: 0.3120 - val_loss: 1498.8341 - val_accuracy: 0.0338\n",
      "Epoch 7/1000\n",
      "16/16 - 0s - loss: 1413.7863 - accuracy: 0.3060 - val_loss: 1291.5354 - val_accuracy: 0.0338\n",
      "Epoch 8/1000\n",
      "16/16 - 0s - loss: 1233.2112 - accuracy: 0.3065 - val_loss: 1096.4121 - val_accuracy: 0.0339\n",
      "Epoch 9/1000\n",
      "16/16 - 0s - loss: 1010.2798 - accuracy: 0.3285 - val_loss: 921.7149 - val_accuracy: 0.0339\n",
      "Epoch 10/1000\n",
      "16/16 - 0s - loss: 877.4775 - accuracy: 0.2950 - val_loss: 759.1755 - val_accuracy: 0.0339\n",
      "Epoch 11/1000\n",
      "16/16 - 0s - loss: 706.8822 - accuracy: 0.3090 - val_loss: 616.6294 - val_accuracy: 0.0340\n",
      "Epoch 12/1000\n",
      "16/16 - 0s - loss: 568.3674 - accuracy: 0.3085 - val_loss: 488.7411 - val_accuracy: 0.0341\n",
      "Epoch 13/1000\n",
      "16/16 - 0s - loss: 439.8169 - accuracy: 0.3055 - val_loss: 376.6064 - val_accuracy: 0.0341\n",
      "Epoch 14/1000\n",
      "16/16 - 0s - loss: 342.3707 - accuracy: 0.2925 - val_loss: 278.4019 - val_accuracy: 0.0342\n",
      "Epoch 15/1000\n",
      "16/16 - 0s - loss: 239.7904 - accuracy: 0.3215 - val_loss: 198.1106 - val_accuracy: 0.0345\n",
      "Epoch 16/1000\n",
      "16/16 - 0s - loss: 165.0746 - accuracy: 0.3280 - val_loss: 131.6204 - val_accuracy: 0.0345\n",
      "Epoch 17/1000\n",
      "16/16 - 0s - loss: 107.2535 - accuracy: 0.3105 - val_loss: 79.4127 - val_accuracy: 0.0347\n",
      "Epoch 18/1000\n",
      "16/16 - 0s - loss: 61.9033 - accuracy: 0.3030 - val_loss: 40.3460 - val_accuracy: 0.0354\n",
      "Epoch 19/1000\n",
      "16/16 - 0s - loss: 28.3088 - accuracy: 0.3150 - val_loss: 14.9349 - val_accuracy: 0.0406\n",
      "Epoch 20/1000\n",
      "16/16 - 0s - loss: 7.4648 - accuracy: 0.3270 - val_loss: 0.4544 - val_accuracy: 0.9665\n",
      "Epoch 21/1000\n",
      "16/16 - 0s - loss: 0.2784 - accuracy: 0.9675 - val_loss: 0.1871 - val_accuracy: 0.9665\n",
      "Epoch 22/1000\n",
      "16/16 - 0s - loss: 0.2355 - accuracy: 0.9675 - val_loss: 0.1730 - val_accuracy: 0.9665\n",
      "Epoch 23/1000\n",
      "16/16 - 0s - loss: 0.2344 - accuracy: 0.9675 - val_loss: 0.1692 - val_accuracy: 0.9665\n",
      "Epoch 24/1000\n",
      "16/16 - 0s - loss: 0.2341 - accuracy: 0.9675 - val_loss: 0.1596 - val_accuracy: 0.9665\n",
      "Epoch 25/1000\n",
      "16/16 - 0s - loss: 0.2387 - accuracy: 0.9675 - val_loss: 0.1595 - val_accuracy: 0.9665\n",
      "Epoch 26/1000\n",
      "16/16 - 0s - loss: 0.2438 - accuracy: 0.9675 - val_loss: 0.1585 - val_accuracy: 0.9665\n",
      "Epoch 27/1000\n",
      "16/16 - 0s - loss: 0.2315 - accuracy: 0.9675 - val_loss: 0.1697 - val_accuracy: 0.9665\n",
      "Epoch 28/1000\n",
      "16/16 - 0s - loss: 0.2213 - accuracy: 0.9675 - val_loss: 0.1657 - val_accuracy: 0.9665\n",
      "Epoch 29/1000\n",
      "16/16 - 0s - loss: 0.2298 - accuracy: 0.9675 - val_loss: 0.2155 - val_accuracy: 0.9665\n",
      "Epoch 30/1000\n",
      "16/16 - 0s - loss: 0.2333 - accuracy: 0.9675 - val_loss: 0.1618 - val_accuracy: 0.9665\n",
      "Epoch 31/1000\n",
      "16/16 - 0s - loss: 0.2301 - accuracy: 0.9675 - val_loss: 0.2084 - val_accuracy: 0.9665\n",
      "Epoch 32/1000\n",
      "16/16 - 0s - loss: 0.2369 - accuracy: 0.9675 - val_loss: 0.1565 - val_accuracy: 0.9665\n",
      "Epoch 33/1000\n",
      "16/16 - 0s - loss: 0.2159 - accuracy: 0.9675 - val_loss: 0.1617 - val_accuracy: 0.9665\n",
      "Epoch 34/1000\n",
      "16/16 - 0s - loss: 0.2235 - accuracy: 0.9675 - val_loss: 0.1581 - val_accuracy: 0.9665\n",
      "Epoch 35/1000\n",
      "16/16 - 0s - loss: 0.2323 - accuracy: 0.9675 - val_loss: 0.1622 - val_accuracy: 0.9665\n",
      "Epoch 36/1000\n",
      "16/16 - 0s - loss: 0.2310 - accuracy: 0.9675 - val_loss: 0.1562 - val_accuracy: 0.9665\n",
      "Epoch 37/1000\n",
      "16/16 - 0s - loss: 0.2204 - accuracy: 0.9675 - val_loss: 0.1573 - val_accuracy: 0.9665\n",
      "Epoch 38/1000\n",
      "16/16 - 0s - loss: 0.2147 - accuracy: 0.9675 - val_loss: 0.1541 - val_accuracy: 0.9665\n",
      "Epoch 39/1000\n",
      "16/16 - 0s - loss: 0.2144 - accuracy: 0.9675 - val_loss: 0.2978 - val_accuracy: 0.9665\n",
      "Epoch 40/1000\n",
      "16/16 - 0s - loss: 0.2310 - accuracy: 0.9675 - val_loss: 0.1616 - val_accuracy: 0.9665\n",
      "Epoch 41/1000\n",
      "16/16 - 0s - loss: 0.2132 - accuracy: 0.9675 - val_loss: 0.1580 - val_accuracy: 0.9665\n",
      "Epoch 42/1000\n",
      "16/16 - 0s - loss: 0.2140 - accuracy: 0.9675 - val_loss: 0.1536 - val_accuracy: 0.9665\n",
      "Epoch 43/1000\n",
      "16/16 - 0s - loss: 0.2127 - accuracy: 0.9675 - val_loss: 0.1565 - val_accuracy: 0.9665\n",
      "Epoch 44/1000\n",
      "16/16 - 0s - loss: 0.2054 - accuracy: 0.9675 - val_loss: 0.1551 - val_accuracy: 0.9665\n",
      "Epoch 45/1000\n",
      "16/16 - 0s - loss: 0.2084 - accuracy: 0.9675 - val_loss: 0.1518 - val_accuracy: 0.9665\n",
      "Epoch 46/1000\n",
      "16/16 - 0s - loss: 0.2060 - accuracy: 0.9675 - val_loss: 0.1788 - val_accuracy: 0.9665\n",
      "Epoch 47/1000\n",
      "16/16 - 0s - loss: 0.2019 - accuracy: 0.9675 - val_loss: 0.1538 - val_accuracy: 0.9665\n",
      "Epoch 48/1000\n",
      "16/16 - 0s - loss: 0.1893 - accuracy: 0.9675 - val_loss: 0.1528 - val_accuracy: 0.9665\n",
      "Epoch 49/1000\n",
      "16/16 - 0s - loss: 0.2082 - accuracy: 0.9675 - val_loss: 0.1612 - val_accuracy: 0.9665\n",
      "Epoch 50/1000\n",
      "16/16 - 0s - loss: 0.2046 - accuracy: 0.9675 - val_loss: 0.1514 - val_accuracy: 0.9665\n",
      "Epoch 51/1000\n",
      "16/16 - 0s - loss: 0.1986 - accuracy: 0.9675 - val_loss: 0.1519 - val_accuracy: 0.9665\n",
      "Epoch 52/1000\n",
      "16/16 - 0s - loss: 0.1989 - accuracy: 0.9675 - val_loss: 0.1500 - val_accuracy: 0.9665\n",
      "Epoch 53/1000\n",
      "16/16 - 0s - loss: 0.1948 - accuracy: 0.9675 - val_loss: 0.1508 - val_accuracy: 0.9665\n",
      "Epoch 54/1000\n",
      "16/16 - 0s - loss: 0.1914 - accuracy: 0.9675 - val_loss: 0.1493 - val_accuracy: 0.9665\n",
      "Epoch 55/1000\n",
      "16/16 - 0s - loss: 0.1961 - accuracy: 0.9675 - val_loss: 0.1523 - val_accuracy: 0.9665\n",
      "Epoch 56/1000\n",
      "16/16 - 0s - loss: 0.1945 - accuracy: 0.9675 - val_loss: 0.1489 - val_accuracy: 0.9665\n",
      "Epoch 57/1000\n",
      "16/16 - 0s - loss: 0.1901 - accuracy: 0.9675 - val_loss: 0.1533 - val_accuracy: 0.9665\n",
      "Epoch 58/1000\n",
      "16/16 - 0s - loss: 0.2011 - accuracy: 0.9675 - val_loss: 0.1537 - val_accuracy: 0.9665\n",
      "Epoch 59/1000\n",
      "16/16 - 0s - loss: 0.1883 - accuracy: 0.9675 - val_loss: 0.1533 - val_accuracy: 0.9665\n",
      "Epoch 60/1000\n",
      "16/16 - 0s - loss: 0.1890 - accuracy: 0.9675 - val_loss: 0.1803 - val_accuracy: 0.9665\n",
      "Epoch 61/1000\n",
      "16/16 - 0s - loss: 0.1929 - accuracy: 0.9675 - val_loss: 0.1646 - val_accuracy: 0.9665\n",
      "Epoch 62/1000\n",
      "16/16 - 0s - loss: 0.1858 - accuracy: 0.9675 - val_loss: 0.1471 - val_accuracy: 0.9665\n",
      "Epoch 63/1000\n",
      "16/16 - 0s - loss: 0.1831 - accuracy: 0.9675 - val_loss: 0.1581 - val_accuracy: 0.9665\n",
      "Epoch 64/1000\n",
      "16/16 - 0s - loss: 0.1851 - accuracy: 0.9675 - val_loss: 0.1466 - val_accuracy: 0.9665\n",
      "Epoch 65/1000\n",
      "16/16 - 0s - loss: 0.1865 - accuracy: 0.9675 - val_loss: 0.1581 - val_accuracy: 0.9665\n",
      "Epoch 66/1000\n",
      "16/16 - 0s - loss: 0.1803 - accuracy: 0.9675 - val_loss: 0.1460 - val_accuracy: 0.9665\n",
      "Epoch 67/1000\n",
      "16/16 - 0s - loss: 0.1804 - accuracy: 0.9675 - val_loss: 0.1553 - val_accuracy: 0.9665\n",
      "Epoch 68/1000\n",
      "16/16 - 0s - loss: 0.1792 - accuracy: 0.9675 - val_loss: 0.1500 - val_accuracy: 0.9665\n",
      "Epoch 69/1000\n",
      "16/16 - 0s - loss: 0.1864 - accuracy: 0.9675 - val_loss: 0.1505 - val_accuracy: 0.9665\n",
      "Epoch 70/1000\n",
      "16/16 - 0s - loss: 0.1769 - accuracy: 0.9675 - val_loss: 0.1467 - val_accuracy: 0.9665\n",
      "Epoch 71/1000\n",
      "16/16 - 0s - loss: 0.1762 - accuracy: 0.9675 - val_loss: 0.1562 - val_accuracy: 0.9665\n",
      "Epoch 72/1000\n",
      "16/16 - 0s - loss: 0.1770 - accuracy: 0.9675 - val_loss: 0.1451 - val_accuracy: 0.9665\n",
      "Epoch 73/1000\n",
      "16/16 - 0s - loss: 0.1791 - accuracy: 0.9675 - val_loss: 0.1431 - val_accuracy: 0.9665\n",
      "Epoch 74/1000\n",
      "16/16 - 0s - loss: 0.1735 - accuracy: 0.9675 - val_loss: 0.1427 - val_accuracy: 0.9665\n",
      "Epoch 75/1000\n",
      "16/16 - 0s - loss: 0.1672 - accuracy: 0.9675 - val_loss: 0.1421 - val_accuracy: 0.9665\n",
      "Epoch 76/1000\n",
      "16/16 - 0s - loss: 0.1682 - accuracy: 0.9675 - val_loss: 0.1444 - val_accuracy: 0.9665\n",
      "Epoch 77/1000\n",
      "16/16 - 0s - loss: 0.1677 - accuracy: 0.9675 - val_loss: 0.1415 - val_accuracy: 0.9665\n",
      "Epoch 78/1000\n",
      "16/16 - 0s - loss: 0.1730 - accuracy: 0.9675 - val_loss: 0.1413 - val_accuracy: 0.9665\n",
      "Epoch 79/1000\n",
      "16/16 - 0s - loss: 0.1675 - accuracy: 0.9675 - val_loss: 0.1405 - val_accuracy: 0.9665\n",
      "Epoch 80/1000\n",
      "16/16 - 0s - loss: 0.1714 - accuracy: 0.9675 - val_loss: 0.1404 - val_accuracy: 0.9665\n",
      "Epoch 81/1000\n",
      "16/16 - 0s - loss: 0.1658 - accuracy: 0.9675 - val_loss: 0.1417 - val_accuracy: 0.9665\n",
      "Epoch 82/1000\n",
      "16/16 - 0s - loss: 0.1628 - accuracy: 0.9675 - val_loss: 0.1412 - val_accuracy: 0.9665\n",
      "Epoch 83/1000\n",
      "16/16 - 0s - loss: 0.1659 - accuracy: 0.9675 - val_loss: 0.1390 - val_accuracy: 0.9665\n",
      "Epoch 84/1000\n",
      "16/16 - 0s - loss: 0.1604 - accuracy: 0.9675 - val_loss: 0.1385 - val_accuracy: 0.9665\n",
      "Epoch 85/1000\n",
      "16/16 - 0s - loss: 0.1609 - accuracy: 0.9675 - val_loss: 0.1399 - val_accuracy: 0.9665\n",
      "Epoch 86/1000\n",
      "16/16 - 0s - loss: 0.1645 - accuracy: 0.9675 - val_loss: 0.1487 - val_accuracy: 0.9665\n",
      "Epoch 87/1000\n",
      "16/16 - 0s - loss: 0.1583 - accuracy: 0.9675 - val_loss: 0.1451 - val_accuracy: 0.9665\n",
      "Epoch 88/1000\n",
      "16/16 - 0s - loss: 0.1590 - accuracy: 0.9675 - val_loss: 0.1384 - val_accuracy: 0.9665\n",
      "Epoch 89/1000\n",
      "16/16 - 0s - loss: 0.1569 - accuracy: 0.9675 - val_loss: 0.1389 - val_accuracy: 0.9665\n",
      "Epoch 90/1000\n",
      "16/16 - 0s - loss: 0.1629 - accuracy: 0.9675 - val_loss: 0.1452 - val_accuracy: 0.9665\n",
      "Epoch 91/1000\n",
      "16/16 - 0s - loss: 0.1571 - accuracy: 0.9675 - val_loss: 0.1370 - val_accuracy: 0.9665\n",
      "Epoch 92/1000\n",
      "16/16 - 0s - loss: 0.1525 - accuracy: 0.9675 - val_loss: 0.1361 - val_accuracy: 0.9665\n",
      "Epoch 93/1000\n",
      "16/16 - 0s - loss: 0.1564 - accuracy: 0.9675 - val_loss: 0.1360 - val_accuracy: 0.9665\n",
      "Epoch 94/1000\n",
      "16/16 - 0s - loss: 0.1550 - accuracy: 0.9675 - val_loss: 0.1369 - val_accuracy: 0.9665\n",
      "Epoch 95/1000\n",
      "16/16 - 0s - loss: 0.1539 - accuracy: 0.9675 - val_loss: 0.1375 - val_accuracy: 0.9665\n",
      "Epoch 96/1000\n",
      "16/16 - 0s - loss: 0.1554 - accuracy: 0.9675 - val_loss: 0.1356 - val_accuracy: 0.9665\n",
      "Epoch 97/1000\n",
      "16/16 - 0s - loss: 0.1548 - accuracy: 0.9675 - val_loss: 0.1349 - val_accuracy: 0.9665\n",
      "Epoch 98/1000\n",
      "16/16 - 0s - loss: 0.1546 - accuracy: 0.9675 - val_loss: 0.1336 - val_accuracy: 0.9665\n",
      "Epoch 99/1000\n",
      "16/16 - 0s - loss: 0.1508 - accuracy: 0.9675 - val_loss: 0.1348 - val_accuracy: 0.9665\n",
      "Epoch 100/1000\n",
      "16/16 - 0s - loss: 0.1487 - accuracy: 0.9675 - val_loss: 0.1409 - val_accuracy: 0.9665\n",
      "Epoch 101/1000\n",
      "16/16 - 0s - loss: 0.1476 - accuracy: 0.9675 - val_loss: 0.1334 - val_accuracy: 0.9665\n",
      "Epoch 102/1000\n",
      "16/16 - 0s - loss: 0.1492 - accuracy: 0.9675 - val_loss: 0.1333 - val_accuracy: 0.9665\n",
      "Epoch 103/1000\n",
      "16/16 - 0s - loss: 0.1489 - accuracy: 0.9675 - val_loss: 0.1412 - val_accuracy: 0.9665\n",
      "Epoch 104/1000\n",
      "16/16 - 0s - loss: 0.1481 - accuracy: 0.9675 - val_loss: 0.1334 - val_accuracy: 0.9665\n",
      "Epoch 105/1000\n",
      "16/16 - 0s - loss: 0.1484 - accuracy: 0.9675 - val_loss: 0.1320 - val_accuracy: 0.9665\n",
      "Epoch 106/1000\n",
      "16/16 - 0s - loss: 0.1448 - accuracy: 0.9675 - val_loss: 0.1321 - val_accuracy: 0.9665\n",
      "Epoch 107/1000\n",
      "16/16 - 0s - loss: 0.1464 - accuracy: 0.9675 - val_loss: 0.1347 - val_accuracy: 0.9665\n",
      "Epoch 108/1000\n",
      "16/16 - 0s - loss: 0.1398 - accuracy: 0.9675 - val_loss: 0.1322 - val_accuracy: 0.9665\n",
      "Epoch 109/1000\n",
      "16/16 - 0s - loss: 0.1450 - accuracy: 0.9675 - val_loss: 0.1311 - val_accuracy: 0.9665\n",
      "Epoch 110/1000\n",
      "16/16 - 0s - loss: 0.1444 - accuracy: 0.9675 - val_loss: 0.1309 - val_accuracy: 0.9665\n",
      "Epoch 111/1000\n",
      "16/16 - 0s - loss: 0.1411 - accuracy: 0.9675 - val_loss: 0.1306 - val_accuracy: 0.9665\n",
      "Epoch 112/1000\n",
      "16/16 - 0s - loss: 0.1409 - accuracy: 0.9675 - val_loss: 0.1425 - val_accuracy: 0.9665\n",
      "Epoch 113/1000\n",
      "16/16 - 0s - loss: 0.1407 - accuracy: 0.9675 - val_loss: 0.1303 - val_accuracy: 0.9665\n",
      "Epoch 114/1000\n",
      "16/16 - 0s - loss: 0.1443 - accuracy: 0.9675 - val_loss: 0.1302 - val_accuracy: 0.9665\n",
      "Epoch 115/1000\n",
      "16/16 - 0s - loss: 0.1466 - accuracy: 0.9675 - val_loss: 0.1300 - val_accuracy: 0.9665\n",
      "Epoch 116/1000\n",
      "16/16 - 0s - loss: 0.1430 - accuracy: 0.9675 - val_loss: 0.1408 - val_accuracy: 0.9665\n",
      "Epoch 117/1000\n",
      "16/16 - 0s - loss: 0.1391 - accuracy: 0.9675 - val_loss: 0.1308 - val_accuracy: 0.9665\n",
      "Epoch 118/1000\n",
      "16/16 - 0s - loss: 0.1411 - accuracy: 0.9675 - val_loss: 0.1293 - val_accuracy: 0.9665\n",
      "Epoch 119/1000\n",
      "16/16 - 0s - loss: 0.1426 - accuracy: 0.9675 - val_loss: 0.1301 - val_accuracy: 0.9665\n",
      "Epoch 120/1000\n",
      "16/16 - 0s - loss: 0.1431 - accuracy: 0.9675 - val_loss: 0.1292 - val_accuracy: 0.9665\n",
      "Epoch 121/1000\n",
      "16/16 - 0s - loss: 0.1357 - accuracy: 0.9675 - val_loss: 0.1347 - val_accuracy: 0.9665\n",
      "Epoch 122/1000\n",
      "16/16 - 0s - loss: 0.1400 - accuracy: 0.9675 - val_loss: 0.1361 - val_accuracy: 0.9665\n",
      "Epoch 123/1000\n",
      "16/16 - 0s - loss: 0.1342 - accuracy: 0.9675 - val_loss: 0.1315 - val_accuracy: 0.9665\n",
      "Epoch 124/1000\n",
      "16/16 - 0s - loss: 0.1391 - accuracy: 0.9675 - val_loss: 0.1295 - val_accuracy: 0.9665\n",
      "Epoch 125/1000\n",
      "16/16 - 0s - loss: 0.1360 - accuracy: 0.9675 - val_loss: 0.1303 - val_accuracy: 0.9665\n",
      "Epoch 126/1000\n",
      "16/16 - 0s - loss: 0.1380 - accuracy: 0.9675 - val_loss: 0.1310 - val_accuracy: 0.9665\n",
      "Epoch 127/1000\n",
      "16/16 - 0s - loss: 0.1388 - accuracy: 0.9675 - val_loss: 0.1313 - val_accuracy: 0.9665\n",
      "Epoch 128/1000\n",
      "16/16 - 0s - loss: 0.1381 - accuracy: 0.9675 - val_loss: 0.1280 - val_accuracy: 0.9665\n",
      "Epoch 129/1000\n",
      "16/16 - 0s - loss: 0.1354 - accuracy: 0.9675 - val_loss: 0.1283 - val_accuracy: 0.9665\n",
      "Epoch 130/1000\n",
      "16/16 - 0s - loss: 0.1360 - accuracy: 0.9675 - val_loss: 0.1311 - val_accuracy: 0.9665\n",
      "Epoch 131/1000\n",
      "16/16 - 0s - loss: 0.1368 - accuracy: 0.9675 - val_loss: 0.1283 - val_accuracy: 0.9665\n",
      "Epoch 132/1000\n",
      "16/16 - 0s - loss: 0.1339 - accuracy: 0.9675 - val_loss: 0.1360 - val_accuracy: 0.9665\n",
      "Epoch 133/1000\n",
      "16/16 - 0s - loss: 0.1379 - accuracy: 0.9675 - val_loss: 0.1287 - val_accuracy: 0.9665\n",
      "Epoch 134/1000\n",
      "16/16 - 0s - loss: 0.1341 - accuracy: 0.9675 - val_loss: 0.1329 - val_accuracy: 0.9665\n",
      "Epoch 135/1000\n",
      "16/16 - 0s - loss: 0.1363 - accuracy: 0.9675 - val_loss: 0.1322 - val_accuracy: 0.9665\n",
      "Epoch 136/1000\n",
      "16/16 - 0s - loss: 0.1350 - accuracy: 0.9675 - val_loss: 0.1361 - val_accuracy: 0.9665\n",
      "Epoch 137/1000\n",
      "16/16 - 0s - loss: 0.1346 - accuracy: 0.9675 - val_loss: 0.1284 - val_accuracy: 0.9665\n",
      "Epoch 138/1000\n",
      "16/16 - 0s - loss: 0.1356 - accuracy: 0.9675 - val_loss: 0.1322 - val_accuracy: 0.9665\n",
      "Epoch 139/1000\n",
      "16/16 - 0s - loss: 0.1339 - accuracy: 0.9675 - val_loss: 0.1276 - val_accuracy: 0.9665\n",
      "Epoch 140/1000\n",
      "16/16 - 0s - loss: 0.1316 - accuracy: 0.9675 - val_loss: 0.1278 - val_accuracy: 0.9665\n",
      "Epoch 141/1000\n",
      "16/16 - 0s - loss: 0.1353 - accuracy: 0.9675 - val_loss: 0.1276 - val_accuracy: 0.9665\n",
      "Epoch 142/1000\n",
      "16/16 - 0s - loss: 0.1330 - accuracy: 0.9675 - val_loss: 0.1291 - val_accuracy: 0.9665\n",
      "Epoch 143/1000\n",
      "16/16 - 0s - loss: 0.1337 - accuracy: 0.9675 - val_loss: 0.1305 - val_accuracy: 0.9665\n",
      "Epoch 144/1000\n",
      "16/16 - 0s - loss: 0.1327 - accuracy: 0.9675 - val_loss: 0.1275 - val_accuracy: 0.9665\n",
      "Epoch 145/1000\n",
      "16/16 - 0s - loss: 0.1325 - accuracy: 0.9675 - val_loss: 0.1298 - val_accuracy: 0.9665\n",
      "Epoch 146/1000\n",
      "16/16 - 0s - loss: 0.1304 - accuracy: 0.9675 - val_loss: 0.1386 - val_accuracy: 0.9665\n",
      "Epoch 147/1000\n",
      "16/16 - 0s - loss: 0.1319 - accuracy: 0.9675 - val_loss: 0.1274 - val_accuracy: 0.9665\n",
      "Epoch 148/1000\n",
      "16/16 - 0s - loss: 0.1321 - accuracy: 0.9675 - val_loss: 0.1322 - val_accuracy: 0.9665\n",
      "Epoch 149/1000\n",
      "16/16 - 0s - loss: 0.1306 - accuracy: 0.9675 - val_loss: 0.1274 - val_accuracy: 0.9665\n",
      "Epoch 150/1000\n",
      "16/16 - 0s - loss: 0.1314 - accuracy: 0.9675 - val_loss: 0.1282 - val_accuracy: 0.9665\n",
      "Epoch 151/1000\n",
      "16/16 - 0s - loss: 0.1315 - accuracy: 0.9675 - val_loss: 0.1278 - val_accuracy: 0.9665\n",
      "Epoch 152/1000\n",
      "16/16 - 0s - loss: 0.1334 - accuracy: 0.9675 - val_loss: 0.1336 - val_accuracy: 0.9665\n",
      "Epoch 153/1000\n",
      "16/16 - 0s - loss: 0.1291 - accuracy: 0.9675 - val_loss: 0.1299 - val_accuracy: 0.9665\n",
      "Epoch 154/1000\n",
      "16/16 - 0s - loss: 0.1313 - accuracy: 0.9675 - val_loss: 0.1333 - val_accuracy: 0.9665\n",
      "Epoch 155/1000\n",
      "16/16 - 0s - loss: 0.1322 - accuracy: 0.9675 - val_loss: 0.1276 - val_accuracy: 0.9665\n",
      "Epoch 156/1000\n",
      "16/16 - 0s - loss: 0.1330 - accuracy: 0.9675 - val_loss: 0.1281 - val_accuracy: 0.9665\n",
      "Epoch 157/1000\n",
      "16/16 - 0s - loss: 0.1301 - accuracy: 0.9675 - val_loss: 0.1303 - val_accuracy: 0.9665\n",
      "Epoch 158/1000\n",
      "16/16 - 0s - loss: 0.1314 - accuracy: 0.9675 - val_loss: 0.1308 - val_accuracy: 0.9665\n",
      "Epoch 159/1000\n",
      "16/16 - 0s - loss: 0.1343 - accuracy: 0.9675 - val_loss: 0.1286 - val_accuracy: 0.9665\n",
      "Epoch 160/1000\n",
      "16/16 - 0s - loss: 0.1308 - accuracy: 0.9675 - val_loss: 0.1274 - val_accuracy: 0.9665\n",
      "Epoch 161/1000\n",
      "16/16 - 0s - loss: 0.1331 - accuracy: 0.9675 - val_loss: 0.1283 - val_accuracy: 0.9665\n",
      "Epoch 162/1000\n",
      "16/16 - 0s - loss: 0.1293 - accuracy: 0.9675 - val_loss: 0.1308 - val_accuracy: 0.9665\n",
      "Epoch 163/1000\n",
      "16/16 - 0s - loss: 0.1318 - accuracy: 0.9675 - val_loss: 0.1275 - val_accuracy: 0.9665\n",
      "Epoch 164/1000\n",
      "16/16 - 0s - loss: 0.1305 - accuracy: 0.9675 - val_loss: 0.1286 - val_accuracy: 0.9665\n",
      "Epoch 165/1000\n",
      "16/16 - 0s - loss: 0.1306 - accuracy: 0.9675 - val_loss: 0.1319 - val_accuracy: 0.9665\n",
      "Epoch 166/1000\n",
      "16/16 - 0s - loss: 0.1307 - accuracy: 0.9675 - val_loss: 0.1316 - val_accuracy: 0.9665\n",
      "Epoch 167/1000\n",
      "16/16 - 0s - loss: 0.1304 - accuracy: 0.9675 - val_loss: 0.1287 - val_accuracy: 0.9665\n",
      "Epoch 168/1000\n",
      "16/16 - 0s - loss: 0.1303 - accuracy: 0.9675 - val_loss: 0.1281 - val_accuracy: 0.9665\n",
      "Epoch 169/1000\n",
      "16/16 - 0s - loss: 0.1302 - accuracy: 0.9675 - val_loss: 0.1284 - val_accuracy: 0.9665\n"
     ]
    }
   ],
   "source": [
    "model.compile(\n",
    "    loss=\"binary_crossentropy\",\n",
    "    optimizer=\"rmsprop\",\n",
    "    metrics=[\"accuracy\"]\n",
    ")\n",
    "early_stopping_callback = tf.keras.callbacks.EarlyStopping(monitor='val_loss', patience=20)\n",
    "history = model.fit(\n",
    "    X_train,\n",
    "    y_train,\n",
    "    epochs = 1000,\n",
    "    batch_size = 128,\n",
    "    validation_data = (X_test, y_test),\n",
    "    verbose=2,\n",
    "    callbacks=[early_stopping_callback],\n",
    ")"
   ]
  },
  {
   "cell_type": "code",
   "execution_count": 183,
   "metadata": {},
   "outputs": [],
   "source": [
    "df_history = pd.DataFrame(history.history)"
   ]
  },
  {
   "cell_type": "code",
   "execution_count": 184,
   "metadata": {},
   "outputs": [
    {
     "data": {
      "image/png": "[encoded data removed]",
      "text/plain": [
       "<Figure size 1440x432 with 2 Axes>"
      ]
     },
     "metadata": {
      "needs_background": "light"
     },
     "output_type": "display_data"
    }
   ],
   "source": [
    "import matplotlib.pyplot as plt\n",
    "import seaborn as sns\n",
    "plt.figure(figsize=(20, 6))\n",
    "plt.subplot(1, 2, 1)\n",
    "sns.lineplot(data=df_history.loss, label=\"training\")\n",
    "sns.lineplot(data=df_history.val_loss, label=\"validation\")\n",
    "plt.subplot(1, 2, 2)\n",
    "sns.lineplot(data=df_history.accuracy, label=\"training\")\n",
    "sns.lineplot(data=df_history.val_accuracy, label=\"validation\")\n",
    "plt.legend()\n",
    "plt.show()"
   ]
  },
  {
   "cell_type": "code",
   "execution_count": 193,
   "metadata": {},
   "outputs": [],
   "source": [
    "y_pred = np.array(model.predict(X_test).reshape(-1) > 0.5, dtype=\"int\")"
   ]
  },
  {
   "cell_type": "code",
   "execution_count": 194,
   "metadata": {},
   "outputs": [
    {
     "data": {
      "text/plain": [
       "0.9665"
      ]
     },
     "execution_count": 194,
     "metadata": {},
     "output_type": "execute_result"
    }
   ],
   "source": [
    "accuracy(y_test, y_pred)"
   ]
  },
  {
   "cell_type": "code",
   "execution_count": 196,
   "metadata": {},
   "outputs": [
    {
     "data": {
      "text/plain": [
       "0.965375"
      ]
     },
     "execution_count": 196,
     "metadata": {},
     "output_type": "execute_result"
    }
   ],
   "source": [
    "lr_mod = LogisticRegression()\n",
    "lr_fit = lr_mod.fit(X_train, y_train)\n",
    "y_pred = lr_fit.predict(X_test)\n",
    "accuracy(y_test, y_pred)"
   ]
  },
  {
   "cell_type": "code",
   "execution_count": 202,
   "metadata": {},
   "outputs": [
    {
     "data": {
      "text/plain": [
       "array([[-2.29715667e-06,  5.48188218e-04, -1.32997374e-04]])"
      ]
     },
     "execution_count": 202,
     "metadata": {},
     "output_type": "execute_result"
    }
   ],
   "source": [
    "lr_fit.coef_"
   ]
  },
  {
   "cell_type": "code",
   "execution_count": null,
   "metadata": {},
   "outputs": [],
   "source": []
  }
 ],
 "metadata": {
  "colab": {
   "name": "redes-neuronales.ipynb",
   "provenance": []
  },
  "kernelspec": {
   "display_name": "Python 3 (ipykernel)",
   "language": "python",
   "name": "python3"
  },
  "language_info": {
   "codemirror_mode": {
    "name": "ipython",
    "version": 3
   },
   "file_extension": ".py",
   "mimetype": "text/x-python",
   "name": "python",
   "nbconvert_exporter": "python",
   "pygments_lexer": "ipython3",
   "version": "3.8.8"
  }
 },
 "nbformat": 4,
 "nbformat_minor": 4
}
