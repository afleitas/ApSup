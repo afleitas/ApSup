{
 "cells": [
  {
   "cell_type": "markdown",
   "metadata": {},
   "source": [
    "# Clase 2\n",
    "[notebook](https://campus.exactas.uba.ar/mod/url/view.php?id=224044) original en Campus."
   ]
  },
  {
   "cell_type": "code",
   "execution_count": 49,
   "metadata": {},
   "outputs": [],
   "source": [
    "import pandas as pd\n",
    "import seaborn as sns\n",
    "import numpy as np\n",
    "import statsmodels.api as sm\n",
    "import matplotlib.pyplot as plt\n",
    "\n",
    "from scipy.optimize import minimize\n",
    "from scipy.linalg import inv"
   ]
  },
  {
   "cell_type": "markdown",
   "metadata": {},
   "source": [
    "# Ejercicio 1\n",
    "\n",
    "Reproduzca la figura 4.2 del libro *ISLR*:\n",
    "\n",
    "*  Estime la probabilidad de `default` mediante un modelo lineal basado en variable `balance`. \n",
    "*  Grafique la probabilidad estimada en función de `balance` junto con las observaciones de la muestra.\n",
    "*  Repita el gráfico para un modelo logístico.\n",
    "\n",
    "**Sugerencia:** considere el comando `glm` con el argumento `family=\"binomial\"`. ¿Qué significa `family=\"gaussian\"`?\n"
   ]
  },
  {
   "cell_type": "code",
   "execution_count": 50,
   "metadata": {},
   "outputs": [
    {
     "data": {
      "text/html": [
       "<div>\n",
       "<style scoped>\n",
       "    .dataframe tbody tr th:only-of-type {\n",
       "        vertical-align: middle;\n",
       "    }\n",
       "\n",
       "    .dataframe tbody tr th {\n",
       "        vertical-align: top;\n",
       "    }\n",
       "\n",
       "    .dataframe thead th {\n",
       "        text-align: right;\n",
       "    }\n",
       "</style>\n",
       "<table border=\"1\" class=\"dataframe\">\n",
       "  <thead>\n",
       "    <tr style=\"text-align: right;\">\n",
       "      <th></th>\n",
       "      <th>default</th>\n",
       "      <th>student</th>\n",
       "      <th>balance</th>\n",
       "      <th>income</th>\n",
       "      <th>target</th>\n",
       "    </tr>\n",
       "  </thead>\n",
       "  <tbody>\n",
       "    <tr>\n",
       "      <th>0</th>\n",
       "      <td>No</td>\n",
       "      <td>No</td>\n",
       "      <td>729.526495</td>\n",
       "      <td>44361.625074</td>\n",
       "      <td>0</td>\n",
       "    </tr>\n",
       "    <tr>\n",
       "      <th>1</th>\n",
       "      <td>No</td>\n",
       "      <td>Yes</td>\n",
       "      <td>817.180407</td>\n",
       "      <td>12106.134700</td>\n",
       "      <td>0</td>\n",
       "    </tr>\n",
       "    <tr>\n",
       "      <th>2</th>\n",
       "      <td>No</td>\n",
       "      <td>No</td>\n",
       "      <td>1073.549164</td>\n",
       "      <td>31767.138947</td>\n",
       "      <td>0</td>\n",
       "    </tr>\n",
       "    <tr>\n",
       "      <th>3</th>\n",
       "      <td>No</td>\n",
       "      <td>No</td>\n",
       "      <td>529.250605</td>\n",
       "      <td>35704.493935</td>\n",
       "      <td>0</td>\n",
       "    </tr>\n",
       "    <tr>\n",
       "      <th>4</th>\n",
       "      <td>No</td>\n",
       "      <td>No</td>\n",
       "      <td>785.655883</td>\n",
       "      <td>38463.495879</td>\n",
       "      <td>0</td>\n",
       "    </tr>\n",
       "  </tbody>\n",
       "</table>\n",
       "</div>"
      ],
      "text/plain": [
       "  default student      balance        income  target\n",
       "0      No      No   729.526495  44361.625074       0\n",
       "1      No     Yes   817.180407  12106.134700       0\n",
       "2      No      No  1073.549164  31767.138947       0\n",
       "3      No      No   529.250605  35704.493935       0\n",
       "4      No      No   785.655883  38463.495879       0"
      ]
     },
     "execution_count": 50,
     "metadata": {},
     "output_type": "execute_result"
    }
   ],
   "source": [
    "#default = pd.read_csv(\"default.csv\")\n",
    "\n",
    "default = pd.read_csv(r\"C:\\Users\\Dell7400\\Documents\\Ale\\Facu\\Aprendizaje_Supervisado\\Data\\df_ej_1.csv\")\n",
    "default.head()"
   ]
  },
  {
   "cell_type": "code",
   "execution_count": 51,
   "metadata": {},
   "outputs": [],
   "source": [
    "X = np.column_stack([\n",
    "    np.repeat(1, len(default)),\n",
    "    default.balance,\n",
    "])\n",
    "y = np.where(default.default == \"Yes\", 1, 0)"
   ]
  },
  {
   "cell_type": "code",
   "execution_count": 52,
   "metadata": {},
   "outputs": [
    {
     "data": {
      "text/plain": [
       "array([[1.00000000e+00, 7.29526495e+02],\n",
       "       [1.00000000e+00, 8.17180407e+02],\n",
       "       [1.00000000e+00, 1.07354916e+03],\n",
       "       ...,\n",
       "       [1.00000000e+00, 8.45411989e+02],\n",
       "       [1.00000000e+00, 1.56900905e+03],\n",
       "       [1.00000000e+00, 2.00922183e+02]])"
      ]
     },
     "execution_count": 52,
     "metadata": {},
     "output_type": "execute_result"
    }
   ],
   "source": [
    "X"
   ]
  },
  {
   "cell_type": "code",
   "execution_count": 53,
   "metadata": {},
   "outputs": [
    {
     "name": "stdout",
     "output_type": "stream",
     "text": [
      "                 Generalized Linear Model Regression Results                  \n",
      "==============================================================================\n",
      "Dep. Variable:                      y   No. Observations:                10000\n",
      "Model:                            GLM   Df Residuals:                     9998\n",
      "Model Family:                Gaussian   Df Model:                            1\n",
      "Link Function:               identity   Scale:                        0.028251\n",
      "Method:                          IRLS   Log-Likelihood:                 3644.8\n",
      "Date:                Sun, 28 Nov 2021   Deviance:                       282.45\n",
      "Time:                        18:00:22   Pearson chi2:                     282.\n",
      "No. Iterations:                     3                                         \n",
      "Covariance Type:            nonrobust                                         \n",
      "==============================================================================\n",
      "                 coef    std err          z      P>|z|      [0.025      0.975]\n",
      "------------------------------------------------------------------------------\n",
      "const         -0.0752      0.003    -22.416      0.000      -0.082      -0.069\n",
      "x1             0.0001   3.47e-06     37.374      0.000       0.000       0.000\n",
      "==============================================================================\n"
     ]
    }
   ],
   "source": [
    "lin_model = sm.GLM(y, X, family=sm.families.Gaussian())\n",
    "lin_fit = lin_model.fit()\n",
    "print(lin_fit.summary())"
   ]
  },
  {
   "cell_type": "code",
   "execution_count": 81,
   "metadata": {},
   "outputs": [
    {
     "name": "stdout",
     "output_type": "stream",
     "text": [
      "                 Generalized Linear Model Regression Results                  \n",
      "==============================================================================\n",
      "Dep. Variable:                      y   No. Observations:                10000\n",
      "Model:                            GLM   Df Residuals:                     9998\n",
      "Model Family:                Binomial   Df Model:                            1\n",
      "Link Function:                  logit   Scale:                          1.0000\n",
      "Method:                          IRLS   Log-Likelihood:                -798.23\n",
      "Date:                Sun, 28 Nov 2021   Deviance:                       1596.5\n",
      "Time:                        18:33:45   Pearson chi2:                 7.15e+03\n",
      "No. Iterations:                     9                                         \n",
      "Covariance Type:            nonrobust                                         \n",
      "==============================================================================\n",
      "                 coef    std err          z      P>|z|      [0.025      0.975]\n",
      "------------------------------------------------------------------------------\n",
      "const        -10.6513      0.361    -29.491      0.000     -11.359      -9.943\n",
      "x1             0.0055      0.000     24.952      0.000       0.005       0.006\n",
      "==============================================================================\n"
     ]
    }
   ],
   "source": [
    "log_model = sm.GLM(y, X, family=sm.families.Binomial())\n",
    "log_fit = log_model.fit()\n",
    "print(log_fit.summary())"
   ]
  },
  {
   "cell_type": "code",
   "execution_count": 72,
   "metadata": {},
   "outputs": [],
   "source": [
    "grid_size = default.shape[0]\n",
    "grid = np.column_stack([\n",
    "    np.repeat(1, grid_size),\n",
    "    np.linspace(0, default.balance.max(), grid_size)\n",
    "])"
   ]
  },
  {
   "cell_type": "code",
   "execution_count": 73,
   "metadata": {},
   "outputs": [
    {
     "data": {
      "text/plain": [
       "10000"
      ]
     },
     "execution_count": 73,
     "metadata": {},
     "output_type": "execute_result"
    }
   ],
   "source": [
    "len(grid)"
   ]
  },
  {
   "cell_type": "code",
   "execution_count": 56,
   "metadata": {},
   "outputs": [
    {
     "data": {
      "text/plain": [
       "(2654.32257628018, 0.0)"
      ]
     },
     "execution_count": 56,
     "metadata": {},
     "output_type": "execute_result"
    }
   ],
   "source": [
    "max(np.linspace(0, default.balance.max(), grid_size)),min(np.linspace(0, default.balance.max(), grid_size))\n"
   ]
  },
  {
   "cell_type": "code",
   "execution_count": 57,
   "metadata": {},
   "outputs": [
    {
     "data": {
      "text/plain": [
       "(2654.32257628018, 0.0)"
      ]
     },
     "execution_count": 57,
     "metadata": {},
     "output_type": "execute_result"
    }
   ],
   "source": [
    "max(default.balance),min(default.balance)"
   ]
  },
  {
   "cell_type": "code",
   "execution_count": 74,
   "metadata": {},
   "outputs": [],
   "source": [
    "lin_pred = lin_fit.predict(grid)\n",
    "log_pred = log_fit.predict(grid)"
   ]
  },
  {
   "cell_type": "code",
   "execution_count": 82,
   "metadata": {},
   "outputs": [
    {
     "data": {
      "text/plain": [
       "(0.27158581398288306, 0.0333)"
      ]
     },
     "execution_count": 82,
     "metadata": {},
     "output_type": "execute_result"
    }
   ],
   "source": [
    "np.mean(log_pred),default.target.mean()"
   ]
  },
  {
   "cell_type": "code",
   "execution_count": 76,
   "metadata": {},
   "outputs": [
    {
     "data": {
      "text/plain": [
       "(10000, 10000, 0.09716937297621212, 0.27158581398288306)"
      ]
     },
     "execution_count": 76,
     "metadata": {},
     "output_type": "execute_result"
    }
   ],
   "source": [
    "len(lin_pred),len(log_pred),np.mean(lin_pred),np.mean(log_pred)"
   ]
  },
  {
   "cell_type": "code",
   "execution_count": 77,
   "metadata": {},
   "outputs": [
    {
     "data": {
      "text/plain": [
       "Index(['default', 'student', 'balance', 'income', 'target'], dtype='object')"
      ]
     },
     "execution_count": 77,
     "metadata": {},
     "output_type": "execute_result"
    }
   ],
   "source": [
    "default.columns"
   ]
  },
  {
   "cell_type": "code",
   "execution_count": 80,
   "metadata": {},
   "outputs": [
    {
     "data": {
      "text/plain": [
       "(333, 5)"
      ]
     },
     "execution_count": 80,
     "metadata": {},
     "output_type": "execute_result"
    }
   ],
   "source": [
    "default[default.target==1].shape"
   ]
  },
  {
   "cell_type": "code",
   "execution_count": 79,
   "metadata": {},
   "outputs": [
    {
     "data": {
      "text/plain": [
       "2715.8581398288247"
      ]
     },
     "execution_count": 79,
     "metadata": {},
     "output_type": "execute_result"
    }
   ],
   "source": [
    "sum(log_pred)"
   ]
  },
  {
   "cell_type": "code",
   "execution_count": 64,
   "metadata": {},
   "outputs": [
    {
     "data": {
      "text/plain": [
       "([<matplotlib.lines.Line2D at 0x1fe237450d0>], 10000, 10000)"
      ]
     },
     "execution_count": 64,
     "metadata": {},
     "output_type": "execute_result"
    },
    {
     "data": {
      "image/png": "[encoded data removed]",
      "text/plain": [
       "<Figure size 432x288 with 1 Axes>"
      ]
     },
     "metadata": {
      "needs_background": "light"
     },
     "output_type": "display_data"
    }
   ],
   "source": [
    "plt.plot(grid[:,1],log_pred),len(grid[:,1]),len(log_pred)"
   ]
  },
  {
   "cell_type": "code",
   "execution_count": 84,
   "metadata": {},
   "outputs": [
    {
     "data": {
      "text/plain": [
       "array([0, 0, 0, ..., 0, 0, 0])"
      ]
     },
     "execution_count": 84,
     "metadata": {},
     "output_type": "execute_result"
    }
   ],
   "source": [
    "y"
   ]
  },
  {
   "cell_type": "code",
   "execution_count": 83,
   "metadata": {},
   "outputs": [
    {
     "data": {
      "text/plain": [
       "[<matplotlib.lines.Line2D at 0x1fe238dbd90>,\n",
       " <matplotlib.lines.Line2D at 0x1fe2369f7f0>]"
      ]
     },
     "execution_count": 83,
     "metadata": {},
     "output_type": "execute_result"
    }
   ],
   "source": [
    "[ax.axhline(y, linestyle=\"dashed\", color=\"black\") for y in (0, 1)]\n"
   ]
  },
  {
   "cell_type": "code",
   "execution_count": 46,
   "metadata": {},
   "outputs": [
    {
     "data": {
      "image/png": "[encoded data removed]",
      "text/plain": [
       "<Figure size 1440x504 with 2 Axes>"
      ]
     },
     "metadata": {
      "needs_background": "light"
     },
     "output_type": "display_data"
    }
   ],
   "source": [
    "fig, axs = plt.subplots(1, 2, figsize=(20, 7))\n",
    "for ax, pred in zip(axs, [lin_pred, log_pred]):\n",
    "    [ax.axhline(y, linestyle=\"dashed\", color=\"black\") for y in (0, 1)]\n",
    "    ax.scatter(default.balance, y, marker=\"|\", color=\"orange\")\n",
    "    ax.set_xlabel(\"Balance\")\n",
    "    ax.set_ylabel(\"Probability of Default\")\n",
    "    ax.plot(grid[:, 1], pred)\n",
    "plt.show()"
   ]
  },
  {
   "cell_type": "markdown",
   "metadata": {},
   "source": [
    "# Ejercicio 2\n",
    "\n",
    "* Implemente una función que realice una regresión logística múltiple, para el caso de dos clases, y devuelva los coeficientes estimados y las probabilidades estimadas. \n",
    "* Compare con la salida del comando `glm` usando las *features* `balance` e `income`.\n",
    "* (*) Agregue a su función los errores estándar e intervalos de confianza para los parámetros (compare con la salida del comando `confint`)\n",
    "\n",
    "**Sugerencias:** \n",
    "* considere el comando `optim` para maximizar la función de verosimilitud,\n",
    "* tenga cuidado con la escala de las variables,\n",
    "* vincule la varianza asintótica del estimador de máxima verosimilitud con el argumento `hessian` del comando `optim`.\n"
   ]
  },
  {
   "cell_type": "code",
   "execution_count": 9,
   "metadata": {},
   "outputs": [],
   "source": [
    "from scipy.stats import norm"
   ]
  },
  {
   "cell_type": "code",
   "execution_count": 15,
   "metadata": {},
   "outputs": [
    {
     "data": {
      "text/plain": [
       "0.6"
      ]
     },
     "execution_count": 15,
     "metadata": {},
     "output_type": "execute_result"
    }
   ],
   "source": [
    "bernoulli.pmf(0, 0.4)"
   ]
  },
  {
   "cell_type": "code",
   "execution_count": 33,
   "metadata": {},
   "outputs": [
    {
     "data": {
      "text/plain": [
       "array([ 0.81593806,  0.48008113, -2.35166468])"
      ]
     },
     "execution_count": 33,
     "metadata": {},
     "output_type": "execute_result"
    }
   ],
   "source": [
    "norm.rvs(size=3)"
   ]
  },
  {
   "cell_type": "code",
   "execution_count": 72,
   "metadata": {},
   "outputs": [
    {
     "data": {
      "text/plain": [
       "-1.0"
      ]
     },
     "execution_count": 72,
     "metadata": {},
     "output_type": "execute_result"
    }
   ],
   "source": [
    "poisson.logpmf(1, 1)"
   ]
  },
  {
   "cell_type": "code",
   "execution_count": 220,
   "metadata": {},
   "outputs": [
    {
     "data": {
      "text/plain": [
       "7.049145799985662438e+4931"
      ]
     },
     "execution_count": 220,
     "metadata": {},
     "output_type": "execute_result"
    }
   ],
   "source": [
    "np.exp(11356, dtype=np.float128)"
   ]
  },
  {
   "cell_type": "markdown",
   "metadata": {},
   "source": [
    "Es realmente difícil - prácticamente imposible - implementar algoritmos que sin manipular los datos iniciales para llevarlos a escalas razonables, y luego hacer un uso inteligente de las propiedades de disitntas funciones,\n",
    "- no se topen con \"overflows\" (valores más grandes de los que el computador puede representar) y\n",
    "- tarden una cantidad razonable de tiempo.\n",
    "\n",
    "Por eso, aunque uno podría definir una función de log-verosimilitud (`loglikelihood`) genérica como \n",
    "```python\n",
    "sum([logpdf(y, theta) for y, theta in zip(y, X @ beta)])\n",
    "```\n",
    ", elegimos definir a mano una función que se lleve bien con `scipy.optimize.minimize`."
   ]
  },
  {
   "cell_type": "code",
   "execution_count": 284,
   "metadata": {},
   "outputs": [],
   "source": [
    "from scipy.stats import norm, binom, poisson, bernoulli\n",
    "\n",
    "def np_exp(x):\n",
    "    \"\"\"Use 128bits floats to avoid overflows when computing logloss\"\"\"\n",
    "    return np.exp(x, dtype=np.float128)\n",
    "\n",
    "def identity(x):\n",
    "    return x\n",
    "\n",
    "def logistic(x):\n",
    "    return np_exp(x) / (1 + np_exp(x))\n",
    "\n",
    "class GLM():\n",
    "    \n",
    "    LINKS = {\"gaussian\": identity, \"bernoulli\": logistic, \"poisson\": np_exp}\n",
    "    \n",
    "    def __init__(self, X, y, family=\"gaussian\"):\n",
    "        if family not in self.LINKS.keys():\n",
    "            raise ValueError(f\"{family} is not a recognised family. Try one of {list(self.LINKS)}\")\n",
    "        self.X = X\n",
    "        self.y = y\n",
    "        self.family = family\n",
    "        self.link = self.LINKS[family]\n",
    "        \n",
    "    def loglikelihood(self, beta):\n",
    "        theta = self.X @ beta  # @ is the internal product <X, beta>\n",
    "        # These are calculated by hand, and each representes the part of the log-likelihood function\n",
    "        # than is affected by the choice of coefficients `beta` (via theta)\n",
    "        if self.family == \"gaussian\":\n",
    "            return - sum((self.y - theta) ** 2)\n",
    "        elif self.family == \"bernoulli\":\n",
    "            return sum(- np.log(1 + np_exp(theta)) + self.y * theta)\n",
    "        elif self.family == \"poisson\":\n",
    "            return sum(self.y * theta - np_exp(theta))\n",
    "        else:\n",
    "            raise NotImplementedError\n",
    "        \n",
    "    def fit(self):\n",
    "        self.res_ = minimize(\n",
    "            fun=lambda beta: -self.loglikelihood(beta),\n",
    "            # Start at something different from all-zeroes for conditioning reasons\n",
    "            x0=np.zeros(self.X.shape[1])#norm.rvs(size=self.X.shape[1], scale=0.01),\n",
    "        )\n",
    "        self.coefs_ = self.res_.x\n",
    "        self.coefs_sd_ = np.diag(self.res_.hess_inv) ** .5\n",
    "        self.y_ = self.predict()\n",
    "\n",
    "\n",
    "    def predict(self, X=None):\n",
    "        X = X or self.X  # predict on the original data if there's no new data\n",
    "        return self.link(X @ self.coefs_)\n",
    "    \n",
    "    def confint(self, p):\n",
    "        \"\"\"Return 100 * p % confidence interval for `coefs` \"\"\"\n",
    "        phi = norm.ppf((1 - p) /2)\n",
    "        return [\n",
    "            (c + phi * sd, c - phi * sd)\n",
    "            for c, sd in zip (self.coefs_, self.coefs_sd_)\n",
    "        ]"
   ]
  },
  {
   "cell_type": "code",
   "execution_count": 285,
   "metadata": {},
   "outputs": [],
   "source": [
    "X = np.column_stack([\n",
    "    np.repeat(1, len(default)),\n",
    "    default.balance,\n",
    "    default.income,\n",
    "])"
   ]
  },
  {
   "cell_type": "code",
   "execution_count": 286,
   "metadata": {},
   "outputs": [],
   "source": [
    "# idxs = np.random.choice(range(len(y)), 10000, replace=False)\n",
    "idxs = np.arange(len(y))"
   ]
  },
  {
   "cell_type": "code",
   "execution_count": 288,
   "metadata": {},
   "outputs": [],
   "source": [
    "my_model = GLM(X[idxs,], y[idxs], \"bernoulli\")\n",
    "my_model.fit()"
   ]
  },
  {
   "cell_type": "code",
   "execution_count": 295,
   "metadata": {},
   "outputs": [
    {
     "data": {
      "text/plain": [
       "(array([-1.15382473e+01,  5.64661731e-03,  2.07675181e-05]),\n",
       " array([4.61976692e-01, 2.37637324e-04, 5.32899716e-06]),\n",
       " [(-12.443704945878082, -10.632789588894024),\n",
       "  (0.0051808567108926765, 0.0061123779047683345),\n",
       "  (1.0322875546083746e-05, 3.1212160570689596e-05)])"
      ]
     },
     "execution_count": 295,
     "metadata": {},
     "output_type": "execute_result"
    }
   ],
   "source": [
    "my_model.coefs_, my_model.coefs_sd_, my_model.confint(0.95)"
   ]
  },
  {
   "cell_type": "code",
   "execution_count": 291,
   "metadata": {},
   "outputs": [
    {
     "name": "stdout",
     "output_type": "stream",
     "text": [
      "                 Generalized Linear Model Regression Results                  \n",
      "==============================================================================\n",
      "Dep. Variable:                      y   No. Observations:                10000\n",
      "Model:                            GLM   Df Residuals:                     9997\n",
      "Model Family:                Binomial   Df Model:                            2\n",
      "Link Function:                  logit   Scale:                          1.0000\n",
      "Method:                          IRLS   Log-Likelihood:                -789.48\n",
      "Date:                Sun, 31 Oct 2021   Deviance:                       1579.0\n",
      "Time:                        21:37:34   Pearson chi2:                 6.95e+03\n",
      "No. Iterations:                     9                                         \n",
      "Covariance Type:            nonrobust                                         \n",
      "==============================================================================\n",
      "                 coef    std err          z      P>|z|      [0.025      0.975]\n",
      "------------------------------------------------------------------------------\n",
      "const        -11.5405      0.435    -26.544      0.000     -12.393     -10.688\n",
      "x1             0.0056      0.000     24.835      0.000       0.005       0.006\n",
      "x2          2.081e-05   4.99e-06      4.174      0.000     1.1e-05    3.06e-05\n",
      "==============================================================================\n"
     ]
    }
   ],
   "source": [
    "lin_model = sm.GLM(y[idxs], X[idxs], family=sm.families.Binomial())\n",
    "lin_fit = lin_model.fit()\n",
    "print(lin_fit.summary())"
   ]
  },
  {
   "cell_type": "code",
   "execution_count": 65,
   "metadata": {},
   "outputs": [
    {
     "name": "stdout",
     "output_type": "stream",
     "text": [
      "                 Generalized Linear Model Regression Results                  \n",
      "==============================================================================\n",
      "Dep. Variable:                      y   No. Observations:                10000\n",
      "Model:                            GLM   Df Residuals:                     9997\n",
      "Model Family:                Binomial   Df Model:                            2\n",
      "Link Function:                  logit   Scale:                          1.0000\n",
      "Method:                          IRLS   Log-Likelihood:                -789.48\n",
      "Date:                Sat, 30 Oct 2021   Deviance:                       1579.0\n",
      "Time:                        17:41:50   Pearson chi2:                 6.95e+03\n",
      "No. Iterations:                     9                                         \n",
      "Covariance Type:            nonrobust                                         \n",
      "==============================================================================\n",
      "                 coef    std err          z      P>|z|      [0.025      0.975]\n",
      "------------------------------------------------------------------------------\n",
      "const        -11.5405      0.435    -26.544      0.000     -12.393     -10.688\n",
      "x1             0.0056      0.000     24.835      0.000       0.005       0.006\n",
      "x2          2.081e-05   4.99e-06      4.174      0.000     1.1e-05    3.06e-05\n",
      "==============================================================================\n"
     ]
    }
   ],
   "source": [
    "sm_model = sm.GLM(y, X, family=sm.families.Binomial())\n",
    "sm_fit = sm_model.fit()\n",
    "print(sm_fit.summary())"
   ]
  },
  {
   "cell_type": "markdown",
   "metadata": {},
   "source": [
    "Los coeficientes de statsmodels.GLM para familia binomial, y los de nuestra función caserita, RegLog, tienen una diferencia relativa menor al 1%."
   ]
  },
  {
   "cell_type": "code",
   "execution_count": 53,
   "metadata": {},
   "outputs": [
    {
     "data": {
      "text/plain": [
       "(array([-1.15382420e+01,  5.64661478e-03,  2.07674853e-05]),\n",
       " array([-1.15404684e+01,  5.64710295e-03,  2.08089755e-05]))"
      ]
     },
     "execution_count": 53,
     "metadata": {},
     "output_type": "execute_result"
    }
   ],
   "source": [
    "my_model.coefs_, sm_fit.params"
   ]
  },
  {
   "cell_type": "code",
   "execution_count": 14,
   "metadata": {},
   "outputs": [],
   "source": [
    "assert np.allclose(my_model.coefs_, sm_fit.params, rtol=1e-2)"
   ]
  },
  {
   "cell_type": "code",
   "execution_count": 31,
   "metadata": {},
   "outputs": [
    {
     "data": {
      "text/plain": [
       "(array([4.34772469e-01, 2.27381384e-04, 4.98524546e-06]),\n",
       " array([4.62072056e-01, 2.37686009e-04, 5.32896951e-06]))"
      ]
     },
     "execution_count": 31,
     "metadata": {},
     "output_type": "execute_result"
    }
   ],
   "source": [
    "np.diag(sm_fit.cov_params()) ** .5, my_model.coefs_sd_"
   ]
  },
  {
   "cell_type": "markdown",
   "metadata": {},
   "source": [
    "## Ejercicio de fin de clase\n",
    "1. Modelar una Regresión lineal para el dataset Bikeshare.\n",
    "2. Modelar una Regresión Poisson para el dataset Bikeshare.\n",
    "3. Comparar los resultados obtenidos entre los dos modelos."
   ]
  },
  {
   "cell_type": "code",
   "execution_count": 297,
   "metadata": {},
   "outputs": [],
   "source": [
    "bike = pd.read_csv(\"bikeshare.csv\")"
   ]
  },
  {
   "cell_type": "code",
   "execution_count": 298,
   "metadata": {},
   "outputs": [
    {
     "data": {
      "text/html": [
       "<div>\n",
       "<style scoped>\n",
       "    .dataframe tbody tr th:only-of-type {\n",
       "        vertical-align: middle;\n",
       "    }\n",
       "\n",
       "    .dataframe tbody tr th {\n",
       "        vertical-align: top;\n",
       "    }\n",
       "\n",
       "    .dataframe thead th {\n",
       "        text-align: right;\n",
       "    }\n",
       "</style>\n",
       "<table border=\"1\" class=\"dataframe\">\n",
       "  <thead>\n",
       "    <tr style=\"text-align: right;\">\n",
       "      <th></th>\n",
       "      <th>season</th>\n",
       "      <th>mnth</th>\n",
       "      <th>day</th>\n",
       "      <th>hr</th>\n",
       "      <th>holiday</th>\n",
       "      <th>weekday</th>\n",
       "      <th>workingday</th>\n",
       "      <th>weathersit</th>\n",
       "      <th>temp</th>\n",
       "      <th>atemp</th>\n",
       "      <th>hum</th>\n",
       "      <th>windspeed</th>\n",
       "      <th>casual</th>\n",
       "      <th>registered</th>\n",
       "      <th>bikers</th>\n",
       "    </tr>\n",
       "  </thead>\n",
       "  <tbody>\n",
       "    <tr>\n",
       "      <th>0</th>\n",
       "      <td>1</td>\n",
       "      <td>Jan</td>\n",
       "      <td>1</td>\n",
       "      <td>0</td>\n",
       "      <td>0</td>\n",
       "      <td>6</td>\n",
       "      <td>0</td>\n",
       "      <td>clear</td>\n",
       "      <td>0.24</td>\n",
       "      <td>0.2879</td>\n",
       "      <td>0.81</td>\n",
       "      <td>0.0000</td>\n",
       "      <td>3</td>\n",
       "      <td>13</td>\n",
       "      <td>16</td>\n",
       "    </tr>\n",
       "    <tr>\n",
       "      <th>1</th>\n",
       "      <td>1</td>\n",
       "      <td>Jan</td>\n",
       "      <td>1</td>\n",
       "      <td>1</td>\n",
       "      <td>0</td>\n",
       "      <td>6</td>\n",
       "      <td>0</td>\n",
       "      <td>clear</td>\n",
       "      <td>0.22</td>\n",
       "      <td>0.2727</td>\n",
       "      <td>0.80</td>\n",
       "      <td>0.0000</td>\n",
       "      <td>8</td>\n",
       "      <td>32</td>\n",
       "      <td>40</td>\n",
       "    </tr>\n",
       "    <tr>\n",
       "      <th>2</th>\n",
       "      <td>1</td>\n",
       "      <td>Jan</td>\n",
       "      <td>1</td>\n",
       "      <td>2</td>\n",
       "      <td>0</td>\n",
       "      <td>6</td>\n",
       "      <td>0</td>\n",
       "      <td>clear</td>\n",
       "      <td>0.22</td>\n",
       "      <td>0.2727</td>\n",
       "      <td>0.80</td>\n",
       "      <td>0.0000</td>\n",
       "      <td>5</td>\n",
       "      <td>27</td>\n",
       "      <td>32</td>\n",
       "    </tr>\n",
       "    <tr>\n",
       "      <th>3</th>\n",
       "      <td>1</td>\n",
       "      <td>Jan</td>\n",
       "      <td>1</td>\n",
       "      <td>3</td>\n",
       "      <td>0</td>\n",
       "      <td>6</td>\n",
       "      <td>0</td>\n",
       "      <td>clear</td>\n",
       "      <td>0.24</td>\n",
       "      <td>0.2879</td>\n",
       "      <td>0.75</td>\n",
       "      <td>0.0000</td>\n",
       "      <td>3</td>\n",
       "      <td>10</td>\n",
       "      <td>13</td>\n",
       "    </tr>\n",
       "    <tr>\n",
       "      <th>4</th>\n",
       "      <td>1</td>\n",
       "      <td>Jan</td>\n",
       "      <td>1</td>\n",
       "      <td>4</td>\n",
       "      <td>0</td>\n",
       "      <td>6</td>\n",
       "      <td>0</td>\n",
       "      <td>clear</td>\n",
       "      <td>0.24</td>\n",
       "      <td>0.2879</td>\n",
       "      <td>0.75</td>\n",
       "      <td>0.0000</td>\n",
       "      <td>0</td>\n",
       "      <td>1</td>\n",
       "      <td>1</td>\n",
       "    </tr>\n",
       "    <tr>\n",
       "      <th>...</th>\n",
       "      <td>...</td>\n",
       "      <td>...</td>\n",
       "      <td>...</td>\n",
       "      <td>...</td>\n",
       "      <td>...</td>\n",
       "      <td>...</td>\n",
       "      <td>...</td>\n",
       "      <td>...</td>\n",
       "      <td>...</td>\n",
       "      <td>...</td>\n",
       "      <td>...</td>\n",
       "      <td>...</td>\n",
       "      <td>...</td>\n",
       "      <td>...</td>\n",
       "      <td>...</td>\n",
       "    </tr>\n",
       "    <tr>\n",
       "      <th>8640</th>\n",
       "      <td>1</td>\n",
       "      <td>Dec</td>\n",
       "      <td>365</td>\n",
       "      <td>19</td>\n",
       "      <td>0</td>\n",
       "      <td>6</td>\n",
       "      <td>0</td>\n",
       "      <td>clear</td>\n",
       "      <td>0.42</td>\n",
       "      <td>0.4242</td>\n",
       "      <td>0.54</td>\n",
       "      <td>0.2239</td>\n",
       "      <td>19</td>\n",
       "      <td>73</td>\n",
       "      <td>92</td>\n",
       "    </tr>\n",
       "    <tr>\n",
       "      <th>8641</th>\n",
       "      <td>1</td>\n",
       "      <td>Dec</td>\n",
       "      <td>365</td>\n",
       "      <td>20</td>\n",
       "      <td>0</td>\n",
       "      <td>6</td>\n",
       "      <td>0</td>\n",
       "      <td>clear</td>\n",
       "      <td>0.42</td>\n",
       "      <td>0.4242</td>\n",
       "      <td>0.54</td>\n",
       "      <td>0.2239</td>\n",
       "      <td>8</td>\n",
       "      <td>63</td>\n",
       "      <td>71</td>\n",
       "    </tr>\n",
       "    <tr>\n",
       "      <th>8642</th>\n",
       "      <td>1</td>\n",
       "      <td>Dec</td>\n",
       "      <td>365</td>\n",
       "      <td>21</td>\n",
       "      <td>0</td>\n",
       "      <td>6</td>\n",
       "      <td>0</td>\n",
       "      <td>clear</td>\n",
       "      <td>0.40</td>\n",
       "      <td>0.4091</td>\n",
       "      <td>0.58</td>\n",
       "      <td>0.1940</td>\n",
       "      <td>2</td>\n",
       "      <td>50</td>\n",
       "      <td>52</td>\n",
       "    </tr>\n",
       "    <tr>\n",
       "      <th>8643</th>\n",
       "      <td>1</td>\n",
       "      <td>Dec</td>\n",
       "      <td>365</td>\n",
       "      <td>22</td>\n",
       "      <td>0</td>\n",
       "      <td>6</td>\n",
       "      <td>0</td>\n",
       "      <td>clear</td>\n",
       "      <td>0.38</td>\n",
       "      <td>0.3939</td>\n",
       "      <td>0.62</td>\n",
       "      <td>0.1343</td>\n",
       "      <td>2</td>\n",
       "      <td>36</td>\n",
       "      <td>38</td>\n",
       "    </tr>\n",
       "    <tr>\n",
       "      <th>8644</th>\n",
       "      <td>1</td>\n",
       "      <td>Dec</td>\n",
       "      <td>365</td>\n",
       "      <td>23</td>\n",
       "      <td>0</td>\n",
       "      <td>6</td>\n",
       "      <td>0</td>\n",
       "      <td>clear</td>\n",
       "      <td>0.36</td>\n",
       "      <td>0.3788</td>\n",
       "      <td>0.66</td>\n",
       "      <td>0.0000</td>\n",
       "      <td>4</td>\n",
       "      <td>27</td>\n",
       "      <td>31</td>\n",
       "    </tr>\n",
       "  </tbody>\n",
       "</table>\n",
       "<p>8645 rows × 15 columns</p>\n",
       "</div>"
      ],
      "text/plain": [
       "      season mnth  day  hr  holiday  weekday  workingday weathersit  temp  \\\n",
       "0          1  Jan    1   0        0        6           0      clear  0.24   \n",
       "1          1  Jan    1   1        0        6           0      clear  0.22   \n",
       "2          1  Jan    1   2        0        6           0      clear  0.22   \n",
       "3          1  Jan    1   3        0        6           0      clear  0.24   \n",
       "4          1  Jan    1   4        0        6           0      clear  0.24   \n",
       "...      ...  ...  ...  ..      ...      ...         ...        ...   ...   \n",
       "8640       1  Dec  365  19        0        6           0      clear  0.42   \n",
       "8641       1  Dec  365  20        0        6           0      clear  0.42   \n",
       "8642       1  Dec  365  21        0        6           0      clear  0.40   \n",
       "8643       1  Dec  365  22        0        6           0      clear  0.38   \n",
       "8644       1  Dec  365  23        0        6           0      clear  0.36   \n",
       "\n",
       "       atemp   hum  windspeed  casual  registered  bikers  \n",
       "0     0.2879  0.81     0.0000       3          13      16  \n",
       "1     0.2727  0.80     0.0000       8          32      40  \n",
       "2     0.2727  0.80     0.0000       5          27      32  \n",
       "3     0.2879  0.75     0.0000       3          10      13  \n",
       "4     0.2879  0.75     0.0000       0           1       1  \n",
       "...      ...   ...        ...     ...         ...     ...  \n",
       "8640  0.4242  0.54     0.2239      19          73      92  \n",
       "8641  0.4242  0.54     0.2239       8          63      71  \n",
       "8642  0.4091  0.58     0.1940       2          50      52  \n",
       "8643  0.3939  0.62     0.1343       2          36      38  \n",
       "8644  0.3788  0.66     0.0000       4          27      31  \n",
       "\n",
       "[8645 rows x 15 columns]"
      ]
     },
     "execution_count": 298,
     "metadata": {},
     "output_type": "execute_result"
    }
   ],
   "source": [
    "bike"
   ]
  },
  {
   "cell_type": "code",
   "execution_count": 299,
   "metadata": {},
   "outputs": [],
   "source": [
    "X = np.column_stack([\n",
    "    np.repeat(1, len(bike)),\n",
    "    bike.weekday,\n",
    "    bike.hr,\n",
    "    bike.temp,\n",
    "])\n",
    "y = bike.bikers"
   ]
  },
  {
   "cell_type": "code",
   "execution_count": 286,
   "metadata": {},
   "outputs": [],
   "source": [
    "# idxs = np.random.choice(range(len(y)), 10000, replace=False)\n",
    "idxs = np.arange(len(y))"
   ]
  },
  {
   "cell_type": "code",
   "execution_count": 301,
   "metadata": {},
   "outputs": [],
   "source": [
    "my_model = GLM(X, y, \"poisson\")\n",
    "my_model.fit()"
   ]
  },
  {
   "cell_type": "code",
   "execution_count": 302,
   "metadata": {},
   "outputs": [
    {
     "data": {
      "text/plain": [
       "(array([3.21425253, 0.00644106, 0.05221665, 1.99433096]),\n",
       " array([0.00366894, 0.00043548, 0.000136  , 0.00474422]),\n",
       " [(3.20706154310758, 3.221443520225647),\n",
       "  (0.005587532907482795, 0.007294588662821566),\n",
       "  (0.05195008283318116, 0.052483208142523705),\n",
       "  (1.9850324563090251, 2.003629465145264)])"
      ]
     },
     "execution_count": 302,
     "metadata": {},
     "output_type": "execute_result"
    }
   ],
   "source": [
    "my_model.coefs_, my_model.coefs_sd_, my_model.confint(0.95)"
   ]
  },
  {
   "cell_type": "code",
   "execution_count": 312,
   "metadata": {},
   "outputs": [
    {
     "name": "stdout",
     "output_type": "stream",
     "text": [
      "                 Generalized Linear Model Regression Results                  \n",
      "==============================================================================\n",
      "Dep. Variable:                 bikers   No. Observations:                 8645\n",
      "Model:                            GLM   Df Residuals:                     8641\n",
      "Model Family:                 Poisson   Df Model:                            3\n",
      "Link Function:                    log   Scale:                          1.0000\n",
      "Method:                          IRLS   Log-Likelihood:            -3.6975e+05\n",
      "Date:                Sun, 31 Oct 2021   Deviance:                   6.8646e+05\n",
      "Time:                        21:56:07   Pearson chi2:                 7.45e+05\n",
      "No. Iterations:                     5                                         \n",
      "Covariance Type:            nonrobust                                         \n",
      "==============================================================================\n",
      "                 coef    std err          z      P>|z|      [0.025      0.975]\n",
      "------------------------------------------------------------------------------\n",
      "const          3.2143      0.004    878.552      0.000       3.207       3.221\n",
      "x1             0.0064      0.000     14.277      0.000       0.006       0.007\n",
      "x2             0.0522      0.000    370.928      0.000       0.052       0.052\n",
      "x3             1.9943      0.005    421.153      0.000       1.985       2.004\n",
      "==============================================================================\n"
     ]
    }
   ],
   "source": [
    "sm_model = sm.GLM(y, X, family=sm.families.Poisson())\n",
    "sm_fit = sm_model.fit()\n",
    "print(sm_fit.summary())"
   ]
  },
  {
   "cell_type": "code",
   "execution_count": 80,
   "metadata": {},
   "outputs": [
    {
     "data": {
      "text/plain": [
       "<AxesSubplot:xlabel='hr'>"
      ]
     },
     "execution_count": 80,
     "metadata": {},
     "output_type": "execute_result"
    },
    {
     "data": {
      "image/png": "[encoded data removed]",
      "text/plain": [
       "<Figure size 432x288 with 1 Axes>"
      ]
     },
     "metadata": {
      "needs_background": "light"
     },
     "output_type": "display_data"
    }
   ],
   "source": [
    "bike.groupby(\"hr\").bikers.agg([np.mean, np.std]).plot()"
   ]
  },
  {
   "cell_type": "code",
   "execution_count": null,
   "metadata": {},
   "outputs": [],
   "source": []
  }
 ],
 "metadata": {
  "kernelspec": {
   "display_name": "Python 3 (ipykernel)",
   "language": "python",
   "name": "python3"
  },
  "language_info": {
   "codemirror_mode": {
    "name": "ipython",
    "version": 3
   },
   "file_extension": ".py",
   "mimetype": "text/x-python",
   "name": "python",
   "nbconvert_exporter": "python",
   "pygments_lexer": "ipython3",
   "version": "3.8.8"
  }
 },
 "nbformat": 4,
 "nbformat_minor": 4
}
