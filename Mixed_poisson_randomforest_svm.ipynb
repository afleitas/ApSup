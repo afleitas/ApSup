{
 "cells": [
  {
   "cell_type": "code",
   "execution_count": 32,
   "id": "a50d44b5",
   "metadata": {},
   "outputs": [],
   "source": [
    "import pandas as pd\n",
    "import numpy as np\n",
    "from sklearn.linear_model import PoissonRegressor\n",
    "from sklearn.model_selection import train_test_split\n",
    "from sklearn.ensemble import RandomForestClassifier\n"
   ]
  },
  {
   "cell_type": "code",
   "execution_count": 2,
   "id": "6cdbded5",
   "metadata": {},
   "outputs": [
    {
     "data": {
      "text/html": [
       "<div>\n",
       "<style scoped>\n",
       "    .dataframe tbody tr th:only-of-type {\n",
       "        vertical-align: middle;\n",
       "    }\n",
       "\n",
       "    .dataframe tbody tr th {\n",
       "        vertical-align: top;\n",
       "    }\n",
       "\n",
       "    .dataframe thead th {\n",
       "        text-align: right;\n",
       "    }\n",
       "</style>\n",
       "<table border=\"1\" class=\"dataframe\">\n",
       "  <thead>\n",
       "    <tr style=\"text-align: right;\">\n",
       "      <th></th>\n",
       "      <th>User ID</th>\n",
       "      <th>Gender</th>\n",
       "      <th>Age</th>\n",
       "      <th>EstimatedSalary</th>\n",
       "      <th>Purchased</th>\n",
       "    </tr>\n",
       "  </thead>\n",
       "  <tbody>\n",
       "    <tr>\n",
       "      <th>0</th>\n",
       "      <td>15624510</td>\n",
       "      <td>Male</td>\n",
       "      <td>19</td>\n",
       "      <td>19000</td>\n",
       "      <td>0</td>\n",
       "    </tr>\n",
       "    <tr>\n",
       "      <th>1</th>\n",
       "      <td>15810944</td>\n",
       "      <td>Male</td>\n",
       "      <td>35</td>\n",
       "      <td>20000</td>\n",
       "      <td>0</td>\n",
       "    </tr>\n",
       "    <tr>\n",
       "      <th>2</th>\n",
       "      <td>15668575</td>\n",
       "      <td>Female</td>\n",
       "      <td>26</td>\n",
       "      <td>43000</td>\n",
       "      <td>0</td>\n",
       "    </tr>\n",
       "    <tr>\n",
       "      <th>3</th>\n",
       "      <td>15603246</td>\n",
       "      <td>Female</td>\n",
       "      <td>27</td>\n",
       "      <td>57000</td>\n",
       "      <td>0</td>\n",
       "    </tr>\n",
       "    <tr>\n",
       "      <th>4</th>\n",
       "      <td>15804002</td>\n",
       "      <td>Male</td>\n",
       "      <td>19</td>\n",
       "      <td>76000</td>\n",
       "      <td>0</td>\n",
       "    </tr>\n",
       "  </tbody>\n",
       "</table>\n",
       "</div>"
      ],
      "text/plain": [
       "    User ID  Gender  Age  EstimatedSalary  Purchased\n",
       "0  15624510    Male   19            19000          0\n",
       "1  15810944    Male   35            20000          0\n",
       "2  15668575  Female   26            43000          0\n",
       "3  15603246  Female   27            57000          0\n",
       "4  15804002    Male   19            76000          0"
      ]
     },
     "execution_count": 2,
     "metadata": {},
     "output_type": "execute_result"
    }
   ],
   "source": [
    "df = pd.read_csv(\"Social_Network_Ads.csv\")\n",
    "df.head()"
   ]
  },
  {
   "cell_type": "markdown",
   "id": "98a1566b",
   "metadata": {},
   "source": [
    "### Regresion Poisson\n",
    "#### Muy importante tener las variables scaleadas"
   ]
  },
  {
   "cell_type": "code",
   "execution_count": 7,
   "id": "3ed8ae15",
   "metadata": {},
   "outputs": [],
   "source": [
    "df[\"Gender\"] = np.where(df.Gender==\"Male\",1,0)"
   ]
  },
  {
   "cell_type": "code",
   "execution_count": 29,
   "id": "594495b9",
   "metadata": {},
   "outputs": [],
   "source": [
    "# no tiene mucho sentido, pero voy a intentear predecir Age usando una regresion de poisson\n",
    "\n",
    "feature_cols = [\"Gender\",\"EstimatedSalary\",\"Purchased\"]\n",
    "\n",
    "X_train, X_test, y_train, y_test = train_test_split(np.array(df[\"Purchased\"]).reshape(-1,1), df[\"Age\"], test_size=0.3, random_state=1) \n"
   ]
  },
  {
   "cell_type": "code",
   "execution_count": 30,
   "id": "d6e5509b",
   "metadata": {},
   "outputs": [
    {
     "data": {
      "text/plain": [
       "PoissonRegressor(max_iter=600)"
      ]
     },
     "execution_count": 30,
     "metadata": {},
     "output_type": "execute_result"
    }
   ],
   "source": [
    "clf = PoissonRegressor(max_iter=600)\n",
    "clf.fit(X_train,y_train)"
   ]
  },
  {
   "cell_type": "code",
   "execution_count": 31,
   "id": "862c615f",
   "metadata": {},
   "outputs": [
    {
     "data": {
      "text/plain": [
       "array([33.08443805, 33.08443805, 44.91957346, 44.91957346, 33.08443805,\n",
       "       33.08443805, 33.08443805, 44.91957346, 33.08443805, 33.08443805,\n",
       "       33.08443805, 33.08443805, 33.08443805, 44.91957346, 44.91957346,\n",
       "       44.91957346, 44.91957346, 33.08443805, 33.08443805, 44.91957346,\n",
       "       33.08443805, 44.91957346, 44.91957346, 33.08443805, 44.91957346,\n",
       "       33.08443805, 44.91957346, 33.08443805, 44.91957346, 33.08443805,\n",
       "       33.08443805, 33.08443805, 33.08443805, 44.91957346, 33.08443805,\n",
       "       33.08443805, 33.08443805, 33.08443805, 44.91957346, 33.08443805,\n",
       "       44.91957346, 44.91957346, 33.08443805, 33.08443805, 44.91957346,\n",
       "       44.91957346, 44.91957346, 44.91957346, 33.08443805, 44.91957346,\n",
       "       33.08443805, 33.08443805, 44.91957346, 44.91957346, 44.91957346,\n",
       "       33.08443805, 44.91957346, 33.08443805, 44.91957346, 44.91957346,\n",
       "       33.08443805, 33.08443805, 33.08443805, 33.08443805, 44.91957346,\n",
       "       44.91957346, 33.08443805, 33.08443805, 33.08443805, 33.08443805,\n",
       "       33.08443805, 33.08443805, 44.91957346, 33.08443805, 33.08443805,\n",
       "       44.91957346, 33.08443805, 33.08443805, 33.08443805, 33.08443805,\n",
       "       33.08443805, 44.91957346, 44.91957346, 33.08443805, 33.08443805,\n",
       "       33.08443805, 44.91957346, 33.08443805, 44.91957346, 33.08443805,\n",
       "       44.91957346, 44.91957346, 44.91957346, 33.08443805, 33.08443805,\n",
       "       44.91957346, 44.91957346, 44.91957346, 33.08443805, 33.08443805,\n",
       "       33.08443805, 44.91957346, 33.08443805, 44.91957346, 33.08443805,\n",
       "       44.91957346, 33.08443805, 44.91957346, 33.08443805, 33.08443805,\n",
       "       33.08443805, 33.08443805, 33.08443805, 33.08443805, 44.91957346,\n",
       "       33.08443805, 33.08443805, 33.08443805, 33.08443805, 44.91957346])"
      ]
     },
     "execution_count": 31,
     "metadata": {},
     "output_type": "execute_result"
    }
   ],
   "source": [
    "clf.predict(X_test)"
   ]
  },
  {
   "cell_type": "code",
   "execution_count": 35,
   "id": "deb05f21",
   "metadata": {},
   "outputs": [
    {
     "data": {
      "text/html": [
       "<div>\n",
       "<style scoped>\n",
       "    .dataframe tbody tr th:only-of-type {\n",
       "        vertical-align: middle;\n",
       "    }\n",
       "\n",
       "    .dataframe tbody tr th {\n",
       "        vertical-align: top;\n",
       "    }\n",
       "\n",
       "    .dataframe thead th {\n",
       "        text-align: right;\n",
       "    }\n",
       "</style>\n",
       "<table border=\"1\" class=\"dataframe\">\n",
       "  <thead>\n",
       "    <tr style=\"text-align: right;\">\n",
       "      <th></th>\n",
       "      <th>User ID</th>\n",
       "      <th>Gender</th>\n",
       "      <th>Age</th>\n",
       "      <th>EstimatedSalary</th>\n",
       "      <th>Purchased</th>\n",
       "    </tr>\n",
       "  </thead>\n",
       "  <tbody>\n",
       "    <tr>\n",
       "      <th>0</th>\n",
       "      <td>15624510</td>\n",
       "      <td>1</td>\n",
       "      <td>19</td>\n",
       "      <td>19000</td>\n",
       "      <td>0</td>\n",
       "    </tr>\n",
       "    <tr>\n",
       "      <th>1</th>\n",
       "      <td>15810944</td>\n",
       "      <td>1</td>\n",
       "      <td>35</td>\n",
       "      <td>20000</td>\n",
       "      <td>0</td>\n",
       "    </tr>\n",
       "    <tr>\n",
       "      <th>2</th>\n",
       "      <td>15668575</td>\n",
       "      <td>0</td>\n",
       "      <td>26</td>\n",
       "      <td>43000</td>\n",
       "      <td>0</td>\n",
       "    </tr>\n",
       "    <tr>\n",
       "      <th>3</th>\n",
       "      <td>15603246</td>\n",
       "      <td>0</td>\n",
       "      <td>27</td>\n",
       "      <td>57000</td>\n",
       "      <td>0</td>\n",
       "    </tr>\n",
       "    <tr>\n",
       "      <th>4</th>\n",
       "      <td>15804002</td>\n",
       "      <td>1</td>\n",
       "      <td>19</td>\n",
       "      <td>76000</td>\n",
       "      <td>0</td>\n",
       "    </tr>\n",
       "  </tbody>\n",
       "</table>\n",
       "</div>"
      ],
      "text/plain": [
       "    User ID  Gender  Age  EstimatedSalary  Purchased\n",
       "0  15624510       1   19            19000          0\n",
       "1  15810944       1   35            20000          0\n",
       "2  15668575       0   26            43000          0\n",
       "3  15603246       0   27            57000          0\n",
       "4  15804002       1   19            76000          0"
      ]
     },
     "execution_count": 35,
     "metadata": {},
     "output_type": "execute_result"
    }
   ],
   "source": [
    "df.head()"
   ]
  },
  {
   "cell_type": "code",
   "execution_count": 36,
   "id": "8187919e",
   "metadata": {},
   "outputs": [],
   "source": [
    "# vamos a predecir el genero\n",
    "\n",
    "X_train, X_test, y_train, y_test = train_test_split(df[[\"Purchased\",\"Age\"]], df[\"Gender\"], test_size=0.3, random_state=1) \n"
   ]
  },
  {
   "cell_type": "code",
   "execution_count": 37,
   "id": "e0965420",
   "metadata": {},
   "outputs": [],
   "source": [
    "clf = RandomForestClassifier(max_depth=2, random_state=0)"
   ]
  },
  {
   "cell_type": "code",
   "execution_count": 38,
   "id": "6c00cdf8",
   "metadata": {},
   "outputs": [
    {
     "data": {
      "text/plain": [
       "RandomForestClassifier(max_depth=2, random_state=0)"
      ]
     },
     "execution_count": 38,
     "metadata": {},
     "output_type": "execute_result"
    }
   ],
   "source": [
    "clf.fit(X_train,y_train)"
   ]
  },
  {
   "cell_type": "code",
   "execution_count": 41,
   "id": "a5520412",
   "metadata": {},
   "outputs": [
    {
     "data": {
      "text/plain": [
       "(0.47952873230707144, 0.475)"
      ]
     },
     "execution_count": 41,
     "metadata": {},
     "output_type": "execute_result"
    }
   ],
   "source": [
    "clf.predict_proba(X_test)[:,1].mean(),y_test.mean()"
   ]
  },
  {
   "cell_type": "code",
   "execution_count": null,
   "id": "2425f6df",
   "metadata": {},
   "outputs": [],
   "source": []
  }
 ],
 "metadata": {
  "kernelspec": {
   "display_name": "Python 3 (ipykernel)",
   "language": "python",
   "name": "python3"
  },
  "language_info": {
   "codemirror_mode": {
    "name": "ipython",
    "version": 3
   },
   "file_extension": ".py",
   "mimetype": "text/x-python",
   "name": "python",
   "nbconvert_exporter": "python",
   "pygments_lexer": "ipython3",
   "version": "3.8.8"
  }
 },
 "nbformat": 4,
 "nbformat_minor": 5
}
